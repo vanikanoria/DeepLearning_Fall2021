{
  "cells": [
    {
      "cell_type": "markdown",
      "metadata": {
        "id": "view-in-github",
        "colab_type": "text"
      },
      "source": [
        "<a href=\"https://colab.research.google.com/github/vanikanoria/DeepLearning_Fall2021/blob/main/Final_submission_DeepLearning_VaniKanoria.ipynb\" target=\"_parent\"><img src=\"https://colab.research.google.com/assets/colab-badge.svg\" alt=\"Open In Colab\"/></a>"
      ]
    },
    {
      "cell_type": "code",
      "execution_count": 1,
      "metadata": {
        "id": "YqHSP5Up0XVD"
      },
      "outputs": [],
      "source": [
        "#import required libraries\n",
        "import numpy as np\n",
        "import matplotlib.pyplot as plt\n",
        "import tensorflow as tf\n",
        "from tensorflow.keras.models import Sequential\n",
        "from tensorflow.keras.layers import Dense\n",
        "from tensorflow.keras.callbacks import EarlyStopping, TensorBoard\n",
        "from tensorflow.keras.optimizers import Adam\n",
        "from tensorflow.keras.layers import (BatchNormalization, \n",
        "                                     LeakyReLU, \n",
        "                                     Reshape, \n",
        "                                     Conv2DTranspose,\n",
        "                                     Conv2D,\n",
        "                                     Dropout,\n",
        "                                     Flatten)\n",
        "\n",
        "from tensorflow.keras.datasets import mnist\n",
        "from tensorflow.keras.utils import to_categorical\n",
        "import pandas as pd"
      ]
    },
    {
      "cell_type": "markdown",
      "metadata": {
        "id": "NA6QDUt2QpPa"
      },
      "source": [
        "# Load data"
      ]
    },
    {
      "cell_type": "code",
      "execution_count": 2,
      "metadata": {
        "colab": {
          "base_uri": "https://localhost:8080/"
        },
        "id": "G6hKzxpAC3FJ",
        "outputId": "a6f4eccd-11f9-4f1b-e310-18a1631b5ced"
      },
      "outputs": [
        {
          "output_type": "stream",
          "name": "stdout",
          "text": [
            "Downloading data from https://storage.googleapis.com/tensorflow/tf-keras-datasets/train-labels-idx1-ubyte.gz\n",
            "32768/29515 [=================================] - 0s 0us/step\n",
            "40960/29515 [=========================================] - 0s 0us/step\n",
            "Downloading data from https://storage.googleapis.com/tensorflow/tf-keras-datasets/train-images-idx3-ubyte.gz\n",
            "26427392/26421880 [==============================] - 0s 0us/step\n",
            "26435584/26421880 [==============================] - 0s 0us/step\n",
            "Downloading data from https://storage.googleapis.com/tensorflow/tf-keras-datasets/t10k-labels-idx1-ubyte.gz\n",
            "16384/5148 [===============================================================================================] - 0s 0us/step\n",
            "Downloading data from https://storage.googleapis.com/tensorflow/tf-keras-datasets/t10k-images-idx3-ubyte.gz\n",
            "4423680/4422102 [==============================] - 0s 0us/step\n",
            "4431872/4422102 [==============================] - 0s 0us/step\n"
          ]
        }
      ],
      "source": [
        "import tensorflow as tf\n",
        "from tensorflow.keras.datasets import fashion_mnist\n",
        "\n",
        "#link - https://github.com/zalandoresearch/fashion-mnist\n",
        "#The data is already been sorted in to training and testing for us\n",
        "\n",
        "(train_data, train_labels), (test_data, test_labels) = fashion_mnist.load_data()\n",
        "\n",
        "#Create a small list so we can read the label as well\n",
        "class_names = ['T-shirt/top', 'Trouser', 'Pullover', 'Dress', 'Coat', 'Sandle', 'Shirt', 'Sneaker', 'Bag', 'Ankle boot']\n"
      ]
    },
    {
      "cell_type": "code",
      "execution_count": 3,
      "metadata": {
        "colab": {
          "base_uri": "https://localhost:8080/"
        },
        "id": "zQAcKknlDIFt",
        "outputId": "5d028bef-aa35-45ae-af78-a08d42a4401a"
      },
      "outputs": [
        {
          "output_type": "execute_result",
          "data": {
            "text/plain": [
              "(array([[[0, 0, 0, ..., 0, 0, 0],\n",
              "         [0, 0, 0, ..., 0, 0, 0],\n",
              "         [0, 0, 0, ..., 0, 0, 0],\n",
              "         ...,\n",
              "         [0, 0, 0, ..., 0, 0, 0],\n",
              "         [0, 0, 0, ..., 0, 0, 0],\n",
              "         [0, 0, 0, ..., 0, 0, 0]],\n",
              " \n",
              "        [[0, 0, 0, ..., 0, 0, 0],\n",
              "         [0, 0, 0, ..., 0, 0, 0],\n",
              "         [0, 0, 0, ..., 0, 0, 0],\n",
              "         ...,\n",
              "         [0, 0, 0, ..., 0, 0, 0],\n",
              "         [0, 0, 0, ..., 0, 0, 0],\n",
              "         [0, 0, 0, ..., 0, 0, 0]],\n",
              " \n",
              "        [[0, 0, 0, ..., 0, 0, 0],\n",
              "         [0, 0, 0, ..., 0, 0, 0],\n",
              "         [0, 0, 0, ..., 0, 0, 0],\n",
              "         ...,\n",
              "         [0, 0, 0, ..., 0, 0, 0],\n",
              "         [0, 0, 0, ..., 0, 0, 0],\n",
              "         [0, 0, 0, ..., 0, 0, 0]],\n",
              " \n",
              "        ...,\n",
              " \n",
              "        [[0, 0, 0, ..., 0, 0, 0],\n",
              "         [0, 0, 0, ..., 0, 0, 0],\n",
              "         [0, 0, 0, ..., 0, 0, 0],\n",
              "         ...,\n",
              "         [0, 0, 0, ..., 0, 0, 0],\n",
              "         [0, 0, 0, ..., 0, 0, 0],\n",
              "         [0, 0, 0, ..., 0, 0, 0]],\n",
              " \n",
              "        [[0, 0, 0, ..., 0, 0, 0],\n",
              "         [0, 0, 0, ..., 0, 0, 0],\n",
              "         [0, 0, 0, ..., 0, 0, 0],\n",
              "         ...,\n",
              "         [0, 0, 0, ..., 0, 0, 0],\n",
              "         [0, 0, 0, ..., 0, 0, 0],\n",
              "         [0, 0, 0, ..., 0, 0, 0]],\n",
              " \n",
              "        [[0, 0, 0, ..., 0, 0, 0],\n",
              "         [0, 0, 0, ..., 0, 0, 0],\n",
              "         [0, 0, 0, ..., 0, 0, 0],\n",
              "         ...,\n",
              "         [0, 0, 0, ..., 0, 0, 0],\n",
              "         [0, 0, 0, ..., 0, 0, 0],\n",
              "         [0, 0, 0, ..., 0, 0, 0]]], dtype=uint8),\n",
              " array([9, 0, 0, ..., 3, 0, 5], dtype=uint8))"
            ]
          },
          "metadata": {},
          "execution_count": 3
        }
      ],
      "source": [
        "train_data, train_labels"
      ]
    },
    {
      "cell_type": "code",
      "execution_count": 4,
      "metadata": {
        "id": "PiUeJp-EQvML"
      },
      "outputs": [],
      "source": [
        "test_data = test_data.reshape(test_data.shape[0], 28, 28, 1).astype('float32')"
      ]
    },
    {
      "cell_type": "code",
      "execution_count": 5,
      "metadata": {
        "id": "ra4Wb6wBQzJj"
      },
      "outputs": [],
      "source": [
        "train_data = train_data.reshape(train_data.shape[0], 28, 28, 1).astype('float32') "
      ]
    },
    {
      "cell_type": "code",
      "execution_count": 6,
      "metadata": {
        "colab": {
          "base_uri": "https://localhost:8080/"
        },
        "id": "Ls9sbvrpI86l",
        "outputId": "f5eb5839-0745-47fc-d91a-f69d62ca8005"
      },
      "outputs": [
        {
          "output_type": "execute_result",
          "data": {
            "text/plain": [
              "((60000, 28, 28, 1), (10000, 28, 28, 1))"
            ]
          },
          "metadata": {},
          "execution_count": 6
        }
      ],
      "source": [
        "train_data.shape, test_data.shape"
      ]
    },
    {
      "cell_type": "markdown",
      "metadata": {
        "id": "9pC98d-fNDip"
      },
      "source": [
        "train_data and test_data parts contain greyscale RGB codes (from 0 to 255) while train_labels and test_labels parts contain labels from 0 to 9 which represents which number they actually are."
      ]
    },
    {
      "cell_type": "code",
      "execution_count": 7,
      "metadata": {
        "colab": {
          "base_uri": "https://localhost:8080/",
          "height": 337
        },
        "id": "ycw74Yg5gvdw",
        "outputId": "a695f388-5dd5-4dba-b275-50155ddf5fc9"
      },
      "outputs": [
        {
          "output_type": "stream",
          "name": "stderr",
          "text": [
            "/usr/local/lib/python3.7/dist-packages/seaborn/_decorators.py:43: FutureWarning: Pass the following variable as a keyword arg: x. From version 0.12, the only valid positional argument will be `data`, and passing other arguments without an explicit keyword will result in an error or misinterpretation.\n",
            "  FutureWarning\n"
          ]
        },
        {
          "output_type": "execute_result",
          "data": {
            "text/plain": [
              "<matplotlib.axes._subplots.AxesSubplot at 0x7fecce63c6d0>"
            ]
          },
          "metadata": {},
          "execution_count": 7
        },
        {
          "output_type": "display_data",
          "data": {
            "image/png": "[encoded data removed]",
            "text/plain": [
              "<Figure size 432x288 with 1 Axes>"
            ]
          },
          "metadata": {
            "needs_background": "light"
          }
        }
      ],
      "source": [
        "import seaborn as sns\n",
        "sns.countplot(train_labels)"
      ]
    },
    {
      "cell_type": "markdown",
      "metadata": {
        "id": "tR2i1zYKocB0"
      },
      "source": [
        "There are 1000 of each type of fashion item in the train and test sets respectively."
      ]
    },
    {
      "cell_type": "markdown",
      "metadata": {
        "id": "YxxUqO_5N7sh"
      },
      "source": [
        "We also need to convert our dataset to 4-dimensions with the reshape function. Finally, we convert our pandas dataframe to a TensorFlow Dataset object for more efficient training."
      ]
    },
    {
      "cell_type": "code",
      "execution_count": 8,
      "metadata": {
        "id": "r4aQ909GNwEV"
      },
      "outputs": [],
      "source": [
        "test_data = test_data.reshape(test_data.shape[0], 28, 28, 1).astype('float32')"
      ]
    },
    {
      "cell_type": "code",
      "execution_count": 9,
      "metadata": {
        "id": "7-CSygTlOKFu"
      },
      "outputs": [],
      "source": [
        "# Normalize the images to [-1, 1] by using 127.5 as the mean\n",
        "test_data = (test_data - 127.5) / 127.5 "
      ]
    },
    {
      "cell_type": "code",
      "execution_count": 10,
      "metadata": {
        "id": "JZXgrgkM1r0i"
      },
      "outputs": [],
      "source": [
        "train_data = train_data.reshape(train_data.shape[0], 28, 28, 1).astype('float32')\n",
        "train_data = (train_data - 127.5) / 127.5"
      ]
    },
    {
      "cell_type": "code",
      "execution_count": 11,
      "metadata": {
        "colab": {
          "base_uri": "https://localhost:8080/"
        },
        "id": "z8qBKckZ3Xkc",
        "outputId": "99688736-1efa-47af-977c-25ffa62d4b17"
      },
      "outputs": [
        {
          "output_type": "execute_result",
          "data": {
            "text/plain": [
              "array([[[[-1.],\n",
              "         [-1.],\n",
              "         [-1.],\n",
              "         ...,\n",
              "         [-1.],\n",
              "         [-1.],\n",
              "         [-1.]],\n",
              "\n",
              "        [[-1.],\n",
              "         [-1.],\n",
              "         [-1.],\n",
              "         ...,\n",
              "         [-1.],\n",
              "         [-1.],\n",
              "         [-1.]],\n",
              "\n",
              "        [[-1.],\n",
              "         [-1.],\n",
              "         [-1.],\n",
              "         ...,\n",
              "         [-1.],\n",
              "         [-1.],\n",
              "         [-1.]],\n",
              "\n",
              "        ...,\n",
              "\n",
              "        [[-1.],\n",
              "         [-1.],\n",
              "         [-1.],\n",
              "         ...,\n",
              "         [-1.],\n",
              "         [-1.],\n",
              "         [-1.]],\n",
              "\n",
              "        [[-1.],\n",
              "         [-1.],\n",
              "         [-1.],\n",
              "         ...,\n",
              "         [-1.],\n",
              "         [-1.],\n",
              "         [-1.]],\n",
              "\n",
              "        [[-1.],\n",
              "         [-1.],\n",
              "         [-1.],\n",
              "         ...,\n",
              "         [-1.],\n",
              "         [-1.],\n",
              "         [-1.]]],\n",
              "\n",
              "\n",
              "       [[[-1.],\n",
              "         [-1.],\n",
              "         [-1.],\n",
              "         ...,\n",
              "         [-1.],\n",
              "         [-1.],\n",
              "         [-1.]],\n",
              "\n",
              "        [[-1.],\n",
              "         [-1.],\n",
              "         [-1.],\n",
              "         ...,\n",
              "         [-1.],\n",
              "         [-1.],\n",
              "         [-1.]],\n",
              "\n",
              "        [[-1.],\n",
              "         [-1.],\n",
              "         [-1.],\n",
              "         ...,\n",
              "         [-1.],\n",
              "         [-1.],\n",
              "         [-1.]],\n",
              "\n",
              "        ...,\n",
              "\n",
              "        [[-1.],\n",
              "         [-1.],\n",
              "         [-1.],\n",
              "         ...,\n",
              "         [-1.],\n",
              "         [-1.],\n",
              "         [-1.]],\n",
              "\n",
              "        [[-1.],\n",
              "         [-1.],\n",
              "         [-1.],\n",
              "         ...,\n",
              "         [-1.],\n",
              "         [-1.],\n",
              "         [-1.]],\n",
              "\n",
              "        [[-1.],\n",
              "         [-1.],\n",
              "         [-1.],\n",
              "         ...,\n",
              "         [-1.],\n",
              "         [-1.],\n",
              "         [-1.]]],\n",
              "\n",
              "\n",
              "       [[[-1.],\n",
              "         [-1.],\n",
              "         [-1.],\n",
              "         ...,\n",
              "         [-1.],\n",
              "         [-1.],\n",
              "         [-1.]],\n",
              "\n",
              "        [[-1.],\n",
              "         [-1.],\n",
              "         [-1.],\n",
              "         ...,\n",
              "         [-1.],\n",
              "         [-1.],\n",
              "         [-1.]],\n",
              "\n",
              "        [[-1.],\n",
              "         [-1.],\n",
              "         [-1.],\n",
              "         ...,\n",
              "         [-1.],\n",
              "         [-1.],\n",
              "         [-1.]],\n",
              "\n",
              "        ...,\n",
              "\n",
              "        [[-1.],\n",
              "         [-1.],\n",
              "         [-1.],\n",
              "         ...,\n",
              "         [-1.],\n",
              "         [-1.],\n",
              "         [-1.]],\n",
              "\n",
              "        [[-1.],\n",
              "         [-1.],\n",
              "         [-1.],\n",
              "         ...,\n",
              "         [-1.],\n",
              "         [-1.],\n",
              "         [-1.]],\n",
              "\n",
              "        [[-1.],\n",
              "         [-1.],\n",
              "         [-1.],\n",
              "         ...,\n",
              "         [-1.],\n",
              "         [-1.],\n",
              "         [-1.]]],\n",
              "\n",
              "\n",
              "       ...,\n",
              "\n",
              "\n",
              "       [[[-1.],\n",
              "         [-1.],\n",
              "         [-1.],\n",
              "         ...,\n",
              "         [-1.],\n",
              "         [-1.],\n",
              "         [-1.]],\n",
              "\n",
              "        [[-1.],\n",
              "         [-1.],\n",
              "         [-1.],\n",
              "         ...,\n",
              "         [-1.],\n",
              "         [-1.],\n",
              "         [-1.]],\n",
              "\n",
              "        [[-1.],\n",
              "         [-1.],\n",
              "         [-1.],\n",
              "         ...,\n",
              "         [-1.],\n",
              "         [-1.],\n",
              "         [-1.]],\n",
              "\n",
              "        ...,\n",
              "\n",
              "        [[-1.],\n",
              "         [-1.],\n",
              "         [-1.],\n",
              "         ...,\n",
              "         [-1.],\n",
              "         [-1.],\n",
              "         [-1.]],\n",
              "\n",
              "        [[-1.],\n",
              "         [-1.],\n",
              "         [-1.],\n",
              "         ...,\n",
              "         [-1.],\n",
              "         [-1.],\n",
              "         [-1.]],\n",
              "\n",
              "        [[-1.],\n",
              "         [-1.],\n",
              "         [-1.],\n",
              "         ...,\n",
              "         [-1.],\n",
              "         [-1.],\n",
              "         [-1.]]],\n",
              "\n",
              "\n",
              "       [[[-1.],\n",
              "         [-1.],\n",
              "         [-1.],\n",
              "         ...,\n",
              "         [-1.],\n",
              "         [-1.],\n",
              "         [-1.]],\n",
              "\n",
              "        [[-1.],\n",
              "         [-1.],\n",
              "         [-1.],\n",
              "         ...,\n",
              "         [-1.],\n",
              "         [-1.],\n",
              "         [-1.]],\n",
              "\n",
              "        [[-1.],\n",
              "         [-1.],\n",
              "         [-1.],\n",
              "         ...,\n",
              "         [-1.],\n",
              "         [-1.],\n",
              "         [-1.]],\n",
              "\n",
              "        ...,\n",
              "\n",
              "        [[-1.],\n",
              "         [-1.],\n",
              "         [-1.],\n",
              "         ...,\n",
              "         [-1.],\n",
              "         [-1.],\n",
              "         [-1.]],\n",
              "\n",
              "        [[-1.],\n",
              "         [-1.],\n",
              "         [-1.],\n",
              "         ...,\n",
              "         [-1.],\n",
              "         [-1.],\n",
              "         [-1.]],\n",
              "\n",
              "        [[-1.],\n",
              "         [-1.],\n",
              "         [-1.],\n",
              "         ...,\n",
              "         [-1.],\n",
              "         [-1.],\n",
              "         [-1.]]],\n",
              "\n",
              "\n",
              "       [[[-1.],\n",
              "         [-1.],\n",
              "         [-1.],\n",
              "         ...,\n",
              "         [-1.],\n",
              "         [-1.],\n",
              "         [-1.]],\n",
              "\n",
              "        [[-1.],\n",
              "         [-1.],\n",
              "         [-1.],\n",
              "         ...,\n",
              "         [-1.],\n",
              "         [-1.],\n",
              "         [-1.]],\n",
              "\n",
              "        [[-1.],\n",
              "         [-1.],\n",
              "         [-1.],\n",
              "         ...,\n",
              "         [-1.],\n",
              "         [-1.],\n",
              "         [-1.]],\n",
              "\n",
              "        ...,\n",
              "\n",
              "        [[-1.],\n",
              "         [-1.],\n",
              "         [-1.],\n",
              "         ...,\n",
              "         [-1.],\n",
              "         [-1.],\n",
              "         [-1.]],\n",
              "\n",
              "        [[-1.],\n",
              "         [-1.],\n",
              "         [-1.],\n",
              "         ...,\n",
              "         [-1.],\n",
              "         [-1.],\n",
              "         [-1.]],\n",
              "\n",
              "        [[-1.],\n",
              "         [-1.],\n",
              "         [-1.],\n",
              "         ...,\n",
              "         [-1.],\n",
              "         [-1.],\n",
              "         [-1.]]]], dtype=float32)"
            ]
          },
          "metadata": {},
          "execution_count": 11
        }
      ],
      "source": [
        "test_data"
      ]
    },
    {
      "cell_type": "code",
      "execution_count": 12,
      "metadata": {
        "colab": {
          "base_uri": "https://localhost:8080/"
        },
        "id": "1MK2hdw011F7",
        "outputId": "418e4d19-2a19-4a95-8cc9-5a0d8b52af47"
      },
      "outputs": [
        {
          "output_type": "execute_result",
          "data": {
            "text/plain": [
              "array([[[[-1.],\n",
              "         [-1.],\n",
              "         [-1.],\n",
              "         ...,\n",
              "         [-1.],\n",
              "         [-1.],\n",
              "         [-1.]],\n",
              "\n",
              "        [[-1.],\n",
              "         [-1.],\n",
              "         [-1.],\n",
              "         ...,\n",
              "         [-1.],\n",
              "         [-1.],\n",
              "         [-1.]],\n",
              "\n",
              "        [[-1.],\n",
              "         [-1.],\n",
              "         [-1.],\n",
              "         ...,\n",
              "         [-1.],\n",
              "         [-1.],\n",
              "         [-1.]],\n",
              "\n",
              "        ...,\n",
              "\n",
              "        [[-1.],\n",
              "         [-1.],\n",
              "         [-1.],\n",
              "         ...,\n",
              "         [-1.],\n",
              "         [-1.],\n",
              "         [-1.]],\n",
              "\n",
              "        [[-1.],\n",
              "         [-1.],\n",
              "         [-1.],\n",
              "         ...,\n",
              "         [-1.],\n",
              "         [-1.],\n",
              "         [-1.]],\n",
              "\n",
              "        [[-1.],\n",
              "         [-1.],\n",
              "         [-1.],\n",
              "         ...,\n",
              "         [-1.],\n",
              "         [-1.],\n",
              "         [-1.]]],\n",
              "\n",
              "\n",
              "       [[[-1.],\n",
              "         [-1.],\n",
              "         [-1.],\n",
              "         ...,\n",
              "         [-1.],\n",
              "         [-1.],\n",
              "         [-1.]],\n",
              "\n",
              "        [[-1.],\n",
              "         [-1.],\n",
              "         [-1.],\n",
              "         ...,\n",
              "         [-1.],\n",
              "         [-1.],\n",
              "         [-1.]],\n",
              "\n",
              "        [[-1.],\n",
              "         [-1.],\n",
              "         [-1.],\n",
              "         ...,\n",
              "         [-1.],\n",
              "         [-1.],\n",
              "         [-1.]],\n",
              "\n",
              "        ...,\n",
              "\n",
              "        [[-1.],\n",
              "         [-1.],\n",
              "         [-1.],\n",
              "         ...,\n",
              "         [-1.],\n",
              "         [-1.],\n",
              "         [-1.]],\n",
              "\n",
              "        [[-1.],\n",
              "         [-1.],\n",
              "         [-1.],\n",
              "         ...,\n",
              "         [-1.],\n",
              "         [-1.],\n",
              "         [-1.]],\n",
              "\n",
              "        [[-1.],\n",
              "         [-1.],\n",
              "         [-1.],\n",
              "         ...,\n",
              "         [-1.],\n",
              "         [-1.],\n",
              "         [-1.]]],\n",
              "\n",
              "\n",
              "       [[[-1.],\n",
              "         [-1.],\n",
              "         [-1.],\n",
              "         ...,\n",
              "         [-1.],\n",
              "         [-1.],\n",
              "         [-1.]],\n",
              "\n",
              "        [[-1.],\n",
              "         [-1.],\n",
              "         [-1.],\n",
              "         ...,\n",
              "         [-1.],\n",
              "         [-1.],\n",
              "         [-1.]],\n",
              "\n",
              "        [[-1.],\n",
              "         [-1.],\n",
              "         [-1.],\n",
              "         ...,\n",
              "         [-1.],\n",
              "         [-1.],\n",
              "         [-1.]],\n",
              "\n",
              "        ...,\n",
              "\n",
              "        [[-1.],\n",
              "         [-1.],\n",
              "         [-1.],\n",
              "         ...,\n",
              "         [-1.],\n",
              "         [-1.],\n",
              "         [-1.]],\n",
              "\n",
              "        [[-1.],\n",
              "         [-1.],\n",
              "         [-1.],\n",
              "         ...,\n",
              "         [-1.],\n",
              "         [-1.],\n",
              "         [-1.]],\n",
              "\n",
              "        [[-1.],\n",
              "         [-1.],\n",
              "         [-1.],\n",
              "         ...,\n",
              "         [-1.],\n",
              "         [-1.],\n",
              "         [-1.]]],\n",
              "\n",
              "\n",
              "       ...,\n",
              "\n",
              "\n",
              "       [[[-1.],\n",
              "         [-1.],\n",
              "         [-1.],\n",
              "         ...,\n",
              "         [-1.],\n",
              "         [-1.],\n",
              "         [-1.]],\n",
              "\n",
              "        [[-1.],\n",
              "         [-1.],\n",
              "         [-1.],\n",
              "         ...,\n",
              "         [-1.],\n",
              "         [-1.],\n",
              "         [-1.]],\n",
              "\n",
              "        [[-1.],\n",
              "         [-1.],\n",
              "         [-1.],\n",
              "         ...,\n",
              "         [-1.],\n",
              "         [-1.],\n",
              "         [-1.]],\n",
              "\n",
              "        ...,\n",
              "\n",
              "        [[-1.],\n",
              "         [-1.],\n",
              "         [-1.],\n",
              "         ...,\n",
              "         [-1.],\n",
              "         [-1.],\n",
              "         [-1.]],\n",
              "\n",
              "        [[-1.],\n",
              "         [-1.],\n",
              "         [-1.],\n",
              "         ...,\n",
              "         [-1.],\n",
              "         [-1.],\n",
              "         [-1.]],\n",
              "\n",
              "        [[-1.],\n",
              "         [-1.],\n",
              "         [-1.],\n",
              "         ...,\n",
              "         [-1.],\n",
              "         [-1.],\n",
              "         [-1.]]],\n",
              "\n",
              "\n",
              "       [[[-1.],\n",
              "         [-1.],\n",
              "         [-1.],\n",
              "         ...,\n",
              "         [-1.],\n",
              "         [-1.],\n",
              "         [-1.]],\n",
              "\n",
              "        [[-1.],\n",
              "         [-1.],\n",
              "         [-1.],\n",
              "         ...,\n",
              "         [-1.],\n",
              "         [-1.],\n",
              "         [-1.]],\n",
              "\n",
              "        [[-1.],\n",
              "         [-1.],\n",
              "         [-1.],\n",
              "         ...,\n",
              "         [-1.],\n",
              "         [-1.],\n",
              "         [-1.]],\n",
              "\n",
              "        ...,\n",
              "\n",
              "        [[-1.],\n",
              "         [-1.],\n",
              "         [-1.],\n",
              "         ...,\n",
              "         [-1.],\n",
              "         [-1.],\n",
              "         [-1.]],\n",
              "\n",
              "        [[-1.],\n",
              "         [-1.],\n",
              "         [-1.],\n",
              "         ...,\n",
              "         [-1.],\n",
              "         [-1.],\n",
              "         [-1.]],\n",
              "\n",
              "        [[-1.],\n",
              "         [-1.],\n",
              "         [-1.],\n",
              "         ...,\n",
              "         [-1.],\n",
              "         [-1.],\n",
              "         [-1.]]],\n",
              "\n",
              "\n",
              "       [[[-1.],\n",
              "         [-1.],\n",
              "         [-1.],\n",
              "         ...,\n",
              "         [-1.],\n",
              "         [-1.],\n",
              "         [-1.]],\n",
              "\n",
              "        [[-1.],\n",
              "         [-1.],\n",
              "         [-1.],\n",
              "         ...,\n",
              "         [-1.],\n",
              "         [-1.],\n",
              "         [-1.]],\n",
              "\n",
              "        [[-1.],\n",
              "         [-1.],\n",
              "         [-1.],\n",
              "         ...,\n",
              "         [-1.],\n",
              "         [-1.],\n",
              "         [-1.]],\n",
              "\n",
              "        ...,\n",
              "\n",
              "        [[-1.],\n",
              "         [-1.],\n",
              "         [-1.],\n",
              "         ...,\n",
              "         [-1.],\n",
              "         [-1.],\n",
              "         [-1.]],\n",
              "\n",
              "        [[-1.],\n",
              "         [-1.],\n",
              "         [-1.],\n",
              "         ...,\n",
              "         [-1.],\n",
              "         [-1.],\n",
              "         [-1.]],\n",
              "\n",
              "        [[-1.],\n",
              "         [-1.],\n",
              "         [-1.],\n",
              "         ...,\n",
              "         [-1.],\n",
              "         [-1.],\n",
              "         [-1.]]]], dtype=float32)"
            ]
          },
          "metadata": {},
          "execution_count": 12
        }
      ],
      "source": [
        "train_data"
      ]
    },
    {
      "cell_type": "code",
      "execution_count": 13,
      "metadata": {
        "id": "y2sM58uqOEDv"
      },
      "outputs": [],
      "source": [
        "BUFFER_SIZE = 60000\n",
        "BATCH_SIZE = 256"
      ]
    },
    {
      "cell_type": "code",
      "execution_count": 14,
      "metadata": {
        "id": "3Vksmitb16Sd"
      },
      "outputs": [],
      "source": [
        "# Batch and shuffle the training data\n",
        "train_dataset = tf.data.Dataset.from_tensor_slices(train_data).shuffle(BUFFER_SIZE).batch(BATCH_SIZE)"
      ]
    },
    {
      "cell_type": "code",
      "execution_count": 15,
      "metadata": {
        "id": "rmnEUh0xOEak"
      },
      "outputs": [],
      "source": [
        "# Batch and shuffle the test data\n",
        "test_dataset = tf.data.Dataset.from_tensor_slices(test_data).shuffle(BUFFER_SIZE).batch(BATCH_SIZE)"
      ]
    },
    {
      "cell_type": "markdown",
      "metadata": {
        "id": "fa2uBimWObnq"
      },
      "source": [
        "# Build the model\n",
        "## Generator Network:\n",
        "Responsible for generating 28x28 pixels grayscale fake images from random noise.\n",
        "\n",
        "It takes a random vector and tries to generate another vector that follows some particular distribution\n",
        "\n",
        "input: 1-dimensional arrays\n",
        "output:  28x28 pixels images. \n",
        "\n",
        "We reshape the 1-D array to a 2-D array, and then used Transposed Convolution layers, which increase its size.\n"
      ]
    },
    {
      "cell_type": "code",
      "execution_count": 47,
      "metadata": {
        "id": "6eDFuAq-Oa5N"
      },
      "outputs": [],
      "source": [
        "def make_generator_model(num_Conv2Dneurons_1, num_Conv2Dneurons_2):\n",
        "    model = tf.keras.Sequential()\n",
        "    model.add(Dense(7*7*256, use_bias=False, input_shape=(100,)))\n",
        "    model.add(BatchNormalization())\n",
        "    model.add(LeakyReLU())\n",
        "\n",
        "    model.add(Reshape((7, 7, 256)))\n",
        "    assert model.output_shape == (None, 7, 7, 256) # Note: None is the batch size\n",
        "\n",
        "    model.add(Conv2DTranspose(num_Conv2Dneurons_1, (5, 5), strides=(1, 1), padding='same', use_bias=False))\n",
        "    assert model.output_shape == (None, 7, 7, num_Conv2Dneurons_1)\n",
        "    model.add(BatchNormalization())\n",
        "    model.add(LeakyReLU())\n",
        "\n",
        "    model.add(Conv2DTranspose(num_Conv2Dneurons_2, (5, 5), strides=(2, 2), padding='same', use_bias=False))\n",
        "    assert model.output_shape == (None, 14, 14, num_Conv2Dneurons_2)\n",
        "    model.add(BatchNormalization())\n",
        "    model.add(LeakyReLU())\n",
        "\n",
        "    model.add(Conv2DTranspose(1, (5, 5), strides=(2, 2), padding='same', use_bias=False, activation='tanh'))\n",
        "    assert model.output_shape == (None, 28, 28, 1)\n",
        "\n",
        "    return model"
      ]
    },
    {
      "cell_type": "code",
      "execution_count": 17,
      "metadata": {
        "id": "9PTXbEy8RrqT"
      },
      "outputs": [],
      "source": [
        "generator = make_generator_model(128, 64)"
      ]
    },
    {
      "cell_type": "code",
      "execution_count": 18,
      "metadata": {
        "colab": {
          "base_uri": "https://localhost:8080/"
        },
        "id": "pH_UcfzcRwY7",
        "outputId": "338e82b0-b7da-4ffc-ddf8-67d003bf62f9"
      },
      "outputs": [
        {
          "output_type": "stream",
          "name": "stdout",
          "text": [
            "Model: \"sequential\"\n",
            "_________________________________________________________________\n",
            " Layer (type)                Output Shape              Param #   \n",
            "=================================================================\n",
            " dense (Dense)               (None, 12544)             1254400   \n",
            "                                                                 \n",
            " batch_normalization (BatchN  (None, 12544)            50176     \n",
            " ormalization)                                                   \n",
            "                                                                 \n",
            " leaky_re_lu (LeakyReLU)     (None, 12544)             0         \n",
            "                                                                 \n",
            " reshape (Reshape)           (None, 7, 7, 256)         0         \n",
            "                                                                 \n",
            " conv2d_transpose (Conv2DTra  (None, 7, 7, 128)        819200    \n",
            " nspose)                                                         \n",
            "                                                                 \n",
            " batch_normalization_1 (Batc  (None, 7, 7, 128)        512       \n",
            " hNormalization)                                                 \n",
            "                                                                 \n",
            " leaky_re_lu_1 (LeakyReLU)   (None, 7, 7, 128)         0         \n",
            "                                                                 \n",
            " conv2d_transpose_1 (Conv2DT  (None, 14, 14, 64)       204800    \n",
            " ranspose)                                                       \n",
            "                                                                 \n",
            " batch_normalization_2 (Batc  (None, 14, 14, 64)       256       \n",
            " hNormalization)                                                 \n",
            "                                                                 \n",
            " leaky_re_lu_2 (LeakyReLU)   (None, 14, 14, 64)        0         \n",
            "                                                                 \n",
            " conv2d_transpose_2 (Conv2DT  (None, 28, 28, 1)        1600      \n",
            " ranspose)                                                       \n",
            "                                                                 \n",
            "=================================================================\n",
            "Total params: 2,330,944\n",
            "Trainable params: 2,305,472\n",
            "Non-trainable params: 25,472\n",
            "_________________________________________________________________\n"
          ]
        }
      ],
      "source": [
        "generator.summary()"
      ]
    },
    {
      "cell_type": "markdown",
      "metadata": {
        "id": "6iqlIZzjSF07"
      },
      "source": [
        "Now that we have our generator network, we can easily generate a sample image with the following code:"
      ]
    },
    {
      "cell_type": "code",
      "execution_count": 19,
      "metadata": {
        "colab": {
          "base_uri": "https://localhost:8080/",
          "height": 282
        },
        "id": "ylWx7xO1SFUN",
        "outputId": "b75bd996-5daa-4b05-9c14-4e5c2e0f0030"
      },
      "outputs": [
        {
          "output_type": "execute_result",
          "data": {
            "text/plain": [
              "<matplotlib.image.AxesImage at 0x7fec503111d0>"
            ]
          },
          "metadata": {},
          "execution_count": 19
        },
        {
          "output_type": "display_data",
          "data": {
            "image/png": "[encoded data removed]",
            "text/plain": [
              "<Figure size 432x288 with 1 Axes>"
            ]
          },
          "metadata": {
            "needs_background": "light"
          }
        }
      ],
      "source": [
        "noise = tf.random.normal([1, 100]) #Generate 100 random floating numbers\n",
        "generated_image = generator(noise, training=False)\n",
        "# Visualize the generated sample\n",
        "plt.imshow(generated_image[0, :, :, 0], cmap='gray')"
      ]
    },
    {
      "cell_type": "markdown",
      "metadata": {
        "id": "zrEQiIH4SSrt"
      },
      "source": [
        "## Discriminator Network"
      ]
    },
    {
      "cell_type": "markdown",
      "metadata": {
        "id": "MSU56oxwSbrD"
      },
      "source": [
        "For our discriminator network, I create the inverse version of our generator network. It takes the 28x28 pixels image data and outputs a single value, representing the possibility of authenticity. So, our discriminator can review whether a sample image generated by the generator is fake."
      ]
    },
    {
      "cell_type": "code",
      "execution_count": 20,
      "metadata": {
        "id": "Jpj240JiSh6G"
      },
      "outputs": [],
      "source": [
        "def make_discriminator_model(num_Conv2Dneurons_1, num_Conv2Dneurons_2, dropout_rate):\n",
        "    model = tf.keras.Sequential()\n",
        "    \n",
        "    model.add(Conv2D(num_Conv2Dneurons_2, (5, 5), strides=(2, 2), padding='same', input_shape=[28, 28, 1]))\n",
        "    model.add(LeakyReLU())\n",
        "    model.add(Dropout(0.3))\n",
        "\n",
        "    model.add(Conv2D(num_Conv2Dneurons_1, (5, 5), strides=(2, 2), padding='same'))\n",
        "    model.add(LeakyReLU())\n",
        "    model.add(Dropout(dropout_rate))\n",
        "\n",
        "    model.add(Flatten())\n",
        "    model.add(Dense(1))\n",
        "\n",
        "    return model"
      ]
    },
    {
      "cell_type": "code",
      "execution_count": 21,
      "metadata": {
        "id": "Yl6e_hczSrD8"
      },
      "outputs": [],
      "source": [
        "discriminator = make_discriminator_model(128,64, 0.3)"
      ]
    },
    {
      "cell_type": "code",
      "execution_count": 22,
      "metadata": {
        "colab": {
          "base_uri": "https://localhost:8080/"
        },
        "id": "qgntP5voSvrs",
        "outputId": "902fdfaf-e89b-4a41-ccd4-4de92c9eaa2c"
      },
      "outputs": [
        {
          "output_type": "stream",
          "name": "stdout",
          "text": [
            "Model: \"sequential_1\"\n",
            "_________________________________________________________________\n",
            " Layer (type)                Output Shape              Param #   \n",
            "=================================================================\n",
            " conv2d (Conv2D)             (None, 14, 14, 64)        1664      \n",
            "                                                                 \n",
            " leaky_re_lu_3 (LeakyReLU)   (None, 14, 14, 64)        0         \n",
            "                                                                 \n",
            " dropout (Dropout)           (None, 14, 14, 64)        0         \n",
            "                                                                 \n",
            " conv2d_1 (Conv2D)           (None, 7, 7, 128)         204928    \n",
            "                                                                 \n",
            " leaky_re_lu_4 (LeakyReLU)   (None, 7, 7, 128)         0         \n",
            "                                                                 \n",
            " dropout_1 (Dropout)         (None, 7, 7, 128)         0         \n",
            "                                                                 \n",
            " flatten (Flatten)           (None, 6272)              0         \n",
            "                                                                 \n",
            " dense_1 (Dense)             (None, 1)                 6273      \n",
            "                                                                 \n",
            "=================================================================\n",
            "Total params: 212,865\n",
            "Trainable params: 212,865\n",
            "Non-trainable params: 0\n",
            "_________________________________________________________________\n"
          ]
        }
      ],
      "source": [
        "discriminator.summary()"
      ]
    },
    {
      "cell_type": "markdown",
      "metadata": {
        "id": "GYWc6YBSS43U"
      },
      "source": [
        "Finally, we can check what our non-trained discriminator says about the sample generated by the non-trained generator:"
      ]
    },
    {
      "cell_type": "code",
      "execution_count": 23,
      "metadata": {
        "colab": {
          "base_uri": "https://localhost:8080/"
        },
        "id": "_NbhmRLWSv21",
        "outputId": "46b76395-5cd1-4a46-b119-73a5f20d1552"
      },
      "outputs": [
        {
          "output_type": "stream",
          "name": "stdout",
          "text": [
            "tf.Tensor([[-0.00271434]], shape=(1, 1), dtype=float32)\n"
          ]
        }
      ],
      "source": [
        "decision = discriminator(generated_image)\n",
        "print (decision)"
      ]
    },
    {
      "cell_type": "markdown",
      "metadata": {
        "id": "H4ObFWDcTAEZ"
      },
      "source": [
        "A negative value shows that our non-trained discriminator concludes that the image sample in Figure 8 is fake. "
      ]
    },
    {
      "cell_type": "markdown",
      "metadata": {
        "id": "8_2CQ0DSTGzO"
      },
      "source": [
        "# Configure the model"
      ]
    },
    {
      "cell_type": "markdown",
      "metadata": {
        "id": "Yq0RkVgiTKze"
      },
      "source": [
        "Since we are training two sub-networks inside a GAN network, we need to define two loss functions and two optimizers."
      ]
    },
    {
      "cell_type": "markdown",
      "metadata": {
        "id": "SDaVXcgfUu5S"
      },
      "source": [
        "### Loss Functions: \n",
        "We start by creating a Binary Crossentropy object from tf.keras.losses module. We also set the from_logits parameter to True. After creating the object, we fill them with custom discriminator and generator loss functions. Our discriminator loss is calculated as a combination of (i) the discriminator’s predictions on real images to an array of ones and (ii) its predictions on generated images to an array of zeros. Our generator loss is calculated by measuring how well it was able to trick the discriminator. Therefore, we need to compare the discriminator’s decisions on the generated images to an array of 1s.\n"
      ]
    },
    {
      "cell_type": "code",
      "execution_count": 24,
      "metadata": {
        "id": "3OTA7LYKU0EQ"
      },
      "outputs": [],
      "source": [
        "# This method returns a helper function to compute cross entropy loss\n",
        "cross_entropy = tf.keras.losses.BinaryCrossentropy(from_logits=True)"
      ]
    },
    {
      "cell_type": "code",
      "execution_count": 25,
      "metadata": {
        "id": "SyzWU5zwVFnO"
      },
      "outputs": [],
      "source": [
        "def discriminator_loss(real_output, fake_output):\n",
        "    real_loss = cross_entropy(tf.ones_like(real_output), real_output)\n",
        "    fake_loss = cross_entropy(tf.zeros_like(fake_output), fake_output)\n",
        "    total_loss = real_loss + fake_loss\n",
        "    return total_loss\n",
        "\n",
        "def generator_loss(fake_output):\n",
        "    return cross_entropy(tf.ones_like(fake_output), fake_output)"
      ]
    },
    {
      "cell_type": "markdown",
      "metadata": {
        "id": "4w9EiK1UUzvQ"
      },
      "source": [
        "Optimizers: We also set two optimizers separately for generator and discriminator networks. We can use the Adam optimizer object from tf.keras.optimizers module.\n"
      ]
    },
    {
      "cell_type": "code",
      "execution_count": 26,
      "metadata": {
        "id": "EfO6C067VKcK"
      },
      "outputs": [],
      "source": [
        "generator_optimizer = tf.keras.optimizers.Adam(1e-4)\n",
        "discriminator_optimizer = tf.keras.optimizers.Adam(1e-4)"
      ]
    },
    {
      "cell_type": "markdown",
      "metadata": {
        "id": "xIe53QoHUz5V"
      },
      "source": [
        "### Set the checkpoints:\n",
        "By setting a checkpoint directory, we can save our progress at every epoch. This will be especially useful when we restore our model from the last epoch. The following lines configure the training checkpoints by using the os library to set a path to save all the training steps"
      ]
    },
    {
      "cell_type": "code",
      "execution_count": 27,
      "metadata": {
        "id": "_I48tQjJU0Hl"
      },
      "outputs": [],
      "source": [
        "import os\n",
        "\n",
        "checkpoint_dir = './training_checkpoints'\n",
        "checkpoint_prefix = os.path.join(checkpoint_dir, \"ckpt\")\n",
        "checkpoint = tf.train.Checkpoint(generator_optimizer=generator_optimizer,\n",
        "                                 discriminator_optimizer=discriminator_optimizer,\n",
        "                                 generator=generator,\n",
        "                                 discriminator=discriminator)"
      ]
    },
    {
      "cell_type": "markdown",
      "metadata": {
        "id": "lS8JaWcZVZcY"
      },
      "source": [
        "# Train the Model"
      ]
    },
    {
      "cell_type": "code",
      "execution_count": 28,
      "metadata": {
        "id": "JG4bgnB_Vs7l"
      },
      "outputs": [],
      "source": [
        "#create the required variables\n",
        "EPOCHS = 60\n",
        "# We will reuse this seed overtime (so it's easier)\n",
        "# to visualize progress in the animated GIF)\n",
        "num_examples_to_generate = 16\n",
        "noise_dim = 100\n",
        "seed = tf.random.normal([num_examples_to_generate, noise_dim])"
      ]
    },
    {
      "cell_type": "markdown",
      "metadata": {
        "id": "1EQnMO5cV2Ym"
      },
      "source": [
        "Our seed is the noise that we use to generate images on top of. The code generates a random array with normal distribution with the shape (16, 100)"
      ]
    },
    {
      "cell_type": "markdown",
      "metadata": {
        "id": "N0tbjUMWa1HN"
      },
      "source": [
        "## Define the Training Step"
      ]
    },
    {
      "cell_type": "markdown",
      "metadata": {
        "id": "WmX7vXbsa5ia"
      },
      "source": [
        "We are setting a custom training step. After defining the custom train_step() function by annotating the tf.function module, our model will be trained based on the custom train_step() function we defined."
      ]
    },
    {
      "cell_type": "markdown",
      "metadata": {
        "id": "qdwBsOtAbKfO"
      },
      "source": [
        "### tf.function: \n",
        "Compiles a function into a callable TensorFlow graph. (deprecated arguments)\n",
        "\n",
        "### tf.GradientTape:\n",
        " TensorFlow provides the tf.GradientTape API for automatic differentiation; that is, computing the gradient of a computation with respect to some inputs, usually tf.Variables. TensorFlow \"records\" relevant operations executed inside the context of a tf.GradientTape onto a \"tape\". TensorFlow then uses that tape to compute the gradients of a \"recorded\" computation using reverse mode differentiation.\n"
      ]
    },
    {
      "cell_type": "code",
      "execution_count": 29,
      "metadata": {
        "id": "UGhF6iRpVwpM"
      },
      "outputs": [],
      "source": [
        "# tf.function annotation causes the function \n",
        "# to be \"compiled\" as part of the training\n",
        "@tf.function # Compiles a function into a callable TensorFlow graph. (deprecated arguments)\n",
        "\n",
        "def train_step(images):\n",
        "  \n",
        "    # 1 - Create a random noise to feed it into the model\n",
        "    # for the image generation\n",
        "    noise = tf.random.normal([BATCH_SIZE, noise_dim])\n",
        "    \n",
        "    # 2 - Generate images and calculate loss values\n",
        "    # GradientTape method records operations for automatic differentiation.\n",
        "    with tf.GradientTape() as gen_tape, tf.GradientTape() as disc_tape:\n",
        "      generated_images = generator(noise, training=True)\n",
        "      real_output = discriminator(images, training=True)\n",
        "      fake_output = discriminator(generated_images, training=True)\n",
        "\n",
        "      gen_loss = generator_loss(fake_output)\n",
        "      disc_loss = discriminator_loss(real_output, fake_output)\n",
        "\n",
        "    # 3 - Calculate gradients using loss values and model variables\n",
        "    # \"gradient\" method computes the gradient using \n",
        "    # operations recorded in context of this tape (gen_tape and disc_tape).\n",
        "\n",
        "    gradients_of_generator = gen_tape.gradient(gen_loss, \n",
        "                                               generator.trainable_variables)\n",
        "    gradients_of_discriminator = disc_tape.gradient(disc_loss, \n",
        "                                                discriminator.trainable_variables)\n",
        "    \n",
        "    # 4 - Process  Gradients and Run the Optimizer\n",
        "    # \"apply_gradients\" method processes aggregated gradients. \n",
        "\n",
        "    generator_optimizer.apply_gradients(zip(gradients_of_generator, generator.trainable_variables))\n",
        "    discriminator_optimizer.apply_gradients(zip(gradients_of_discriminator, discriminator.trainable_variables))"
      ]
    },
    {
      "cell_type": "markdown",
      "metadata": {
        "id": "Hup0TGFTcZfW"
      },
      "source": [
        "## Define the Training Loop\n",
        "We define a function, named train, for our training loop. Not only we run a for loop to iterate our custom training step over the MNIST, but also do the following with a single function:\n",
        "\n",
        "During the Training:\n",
        "- Start recording time spent at the beginning of each epoch;\n",
        "\n",
        "- Produce GIF images and display them,\n",
        "\n",
        "- Save the model every five epochs as a checkpoint,\n",
        "\n",
        "- Print out the completed epoch time; and\n",
        "\n",
        "- Generate a final image in the end after the training is completed.\n"
      ]
    },
    {
      "cell_type": "code",
      "execution_count": 30,
      "metadata": {
        "id": "ttwdki-GcsfK"
      },
      "outputs": [],
      "source": [
        "import time\n",
        "from IPython import display # A command shell for interactive computing in Python.\n",
        "\n",
        "def train(dataset, epochs, dropout_rate):\n",
        "  # A. For each epoch, do the following:\n",
        "  for epoch in range(epochs):\n",
        "    start = time.time()\n",
        "    # 1 - For each batch of the epoch, \n",
        "    for image_batch in dataset:\n",
        "      # 1.a - run the custom \"train_step\" function\n",
        "      # we just declared above\n",
        "      train_step(image_batch)\n",
        "\n",
        "    # 2 - Produce images for the GIF as we go\n",
        "    display.clear_output(wait=True)\n",
        "    generate_and_save_images(generator,\n",
        "                             epoch + 1, epoch,\n",
        "                             seed, dropout_rate*100)\n",
        "\n",
        "    # 3 - Save the model every 5 epochs as \n",
        "    # a checkpoint, which we will use later\n",
        "    if (epoch + 1) % 5 == 0:\n",
        "      checkpoint.save(file_prefix = checkpoint_prefix)\n",
        "\n",
        "    # 4 - Print out the completed epoch no. and the time spent\n",
        "    print ('Time for epoch {} is {} sec'.format(epoch + 1, time.time()-start))\n",
        "\n",
        "  # B. Generate a final image after the training is completed\n",
        "  display.clear_output(wait=True)\n",
        "  generate_and_save_images(generator,\n",
        "                           epochs,epochs,\n",
        "                           seed, dropout_rate*100)\n"
      ]
    },
    {
      "cell_type": "markdown",
      "metadata": {
        "id": "nX6st1Lycy88"
      },
      "source": [
        "## Image Generation Function\n",
        "In the train function, there is a custom image generation function that we haven’t defined yet. Our image generation function does the following tasks:\n",
        "- Generate images by using the model;\n",
        "- Save the final images in the end"
      ]
    },
    {
      "cell_type": "code",
      "execution_count": 31,
      "metadata": {
        "id": "Bzk5GlE5VsvE"
      },
      "outputs": [],
      "source": [
        "def generate_and_save_images(model, epoch, num_epochs, test_input, dropout_perc):\n",
        "  # Notice `training` is set to False.\n",
        "  # This is so all layers run in inference mode (batchnorm).\n",
        "  # 1 - Generate images\n",
        "  predictions = model(test_input, training=False)\n",
        "  # 2 - Plot the generated images if epoch = num_epochs\n",
        "  if epoch == num_epochs:\n",
        "    for i in range(predictions.shape[0]):\n",
        "        fig = plt.figure(figsize=(1,1))\n",
        "        plt.imshow(predictions[i, :, :, 0] * 127.5 + 127.5, cmap='gray')\n",
        "        plt.axis('off')\n",
        "        plt.savefig('image_{}_at_epoch_{:04d}_dropout_{}.png'.format(epoch, i,dropout_perc))\n",
        "  # 3 - Save the generated images\n",
        "  #plt.savefig('image_at_epoch_{:04d}.png'.format(epoch))\n",
        "  #plt.show()\n",
        "  return predictions"
      ]
    },
    {
      "cell_type": "markdown",
      "metadata": {
        "id": "AtzbdddVEtIj"
      },
      "source": [
        "## **Manual Hyperparameter Optimization**: dropout layers = 0.1, 0.3, 0.5\n"
      ]
    },
    {
      "cell_type": "markdown",
      "metadata": {
        "id": "xWYm0waRc-YW"
      },
      "source": [
        "# Start the Training"
      ]
    },
    {
      "cell_type": "code",
      "execution_count": null,
      "metadata": {
        "id": "mITe1aridCCe"
      },
      "outputs": [],
      "source": [
        "generator = make_generator_model(128, 64)\n",
        "discriminator = make_discriminator_model(128,64, 0.1)\n",
        "train(train_dataset, EPOCHS, 0.1)"
      ]
    },
    {
      "cell_type": "code",
      "execution_count": 33,
      "metadata": {
        "colab": {
          "base_uri": "https://localhost:8080/"
        },
        "id": "Y90_Nt98f8Wx",
        "outputId": "f2587560-98e0-4c8e-a1f9-4327e2b67875"
      },
      "outputs": [
        {
          "output_type": "execute_result",
          "data": {
            "text/plain": [
              "<tensorflow.python.training.tracking.util.CheckpointLoadStatus at 0x7feb670596d0>"
            ]
          },
          "metadata": {},
          "execution_count": 33
        }
      ],
      "source": [
        "# restore the values from the latest checkpoint:\n",
        "checkpoint.restore(tf.train.latest_checkpoint(checkpoint_dir))"
      ]
    },
    {
      "cell_type": "code",
      "source": [
        "from PIL import Image\n",
        "dropout_rate = 0.1*100\n",
        "# get images \n",
        "\n",
        "img_list = []\n",
        "\n",
        "for i in range(16):\n",
        "  img= Image.open('image_{}_at_epoch_{:04d}_dropout_{}.png'.format(EPOCHS, i,10.0))\n",
        "  img_list.append(img)\n",
        "\n",
        "# get width and height\n",
        "w, h = img_list[1].size\n",
        "\n",
        "\n",
        "# create big empty image with place for images\n",
        "new_image = Image.new('RGB', (w*4, h*4))\n",
        "\n",
        "counter = 0\n",
        "for i in range(4):\n",
        "  for j in range(4):\n",
        "    new_image.paste(img_list[counter],(w*i,h*j))\n",
        "    counter+=1\n",
        "\n",
        "# save it\n",
        "new_image.save('combined_image_dropout_{}.png'.format(dropout_rate))"
      ],
      "metadata": {
        "id": "GXgGJpl_kkCX"
      },
      "execution_count": 43,
      "outputs": []
    },
    {
      "cell_type": "markdown",
      "source": [
        ""
      ],
      "metadata": {
        "id": "0rRv2KVyk5IE"
      }
    },
    {
      "cell_type": "code",
      "execution_count": null,
      "metadata": {
        "id": "z2qj5UnFI7fR"
      },
      "outputs": [],
      "source": [
        "generator = make_generator_model(128, 64)\n",
        "discriminator = make_discriminator_model(128,64, 0.3)\n",
        "train(train_dataset, EPOCHS, 0.3)"
      ]
    },
    {
      "cell_type": "code",
      "source": [
        "from PIL import Image\n",
        "dropout_rate = 0.3*100\n",
        "# get images \n",
        "\n",
        "img_list = []\n",
        "\n",
        "for i in range(16):\n",
        "  img= Image.open('image_{}_at_epoch_{:04d}_dropout_{}.png'.format(EPOCHS, i,dropout_rate))\n",
        "  img_list.append(img)\n",
        "\n",
        "# get width and height\n",
        "w, h = img_list[1].size\n",
        "\n",
        "\n",
        "# create big empty image with place for images\n",
        "new_image = Image.new('RGB', (w*4, h*4))\n",
        "\n",
        "counter = 0\n",
        "for i in range(4):\n",
        "  for j in range(4):\n",
        "    new_image.paste(img_list[counter],(w*i,h*j))\n",
        "    counter+=1\n",
        "\n",
        "# save it\n",
        "new_image.save('combined_image_dropout_{}.png'.format(dropout_rate))"
      ],
      "metadata": {
        "id": "IEJ83DDmol1w"
      },
      "execution_count": null,
      "outputs": []
    },
    {
      "cell_type": "code",
      "execution_count": 44,
      "metadata": {
        "id": "YnMGUMsqI_2n",
        "colab": {
          "base_uri": "https://localhost:8080/",
          "height": 1000
        },
        "outputId": "b3c884dd-9e14-4dbe-b593-b65ac728871d"
      },
      "outputs": [
        {
          "output_type": "display_data",
          "data": {
            "image/png": "[encoded data removed]",
            "text/plain": [
              "<Figure size 72x72 with 1 Axes>"
            ]
          },
          "metadata": {
            "needs_background": "light"
          }
        },
        {
          "output_type": "display_data",
          "data": {
            "image/png": "[encoded data removed]",
            "text/plain": [
              "<Figure size 72x72 with 1 Axes>"
            ]
          },
          "metadata": {
            "needs_background": "light"
          }
        },
        {
          "output_type": "display_data",
          "data": {
            "image/png": "[encoded data removed]",
            "text/plain": [
              "<Figure size 72x72 with 1 Axes>"
            ]
          },
          "metadata": {
            "needs_background": "light"
          }
        },
        {
          "output_type": "display_data",
          "data": {
            "image/png": "[encoded data removed]",
            "text/plain": [
              "<Figure size 72x72 with 1 Axes>"
            ]
          },
          "metadata": {
            "needs_background": "light"
          }
        },
        {
          "output_type": "display_data",
          "data": {
            "image/png": "[encoded data removed]",
            "text/plain": [
              "<Figure size 72x72 with 1 Axes>"
            ]
          },
          "metadata": {
            "needs_background": "light"
          }
        },
        {
          "output_type": "display_data",
          "data": {
            "image/png": "[encoded data removed]",
            "text/plain": [
              "<Figure size 72x72 with 1 Axes>"
            ]
          },
          "metadata": {
            "needs_background": "light"
          }
        },
        {
          "output_type": "display_data",
          "data": {
            "image/png": "[encoded data removed]",
            "text/plain": [
              "<Figure size 72x72 with 1 Axes>"
            ]
          },
          "metadata": {
            "needs_background": "light"
          }
        },
        {
          "output_type": "display_data",
          "data": {
            "image/png": "[encoded data removed]",
            "text/plain": [
              "<Figure size 72x72 with 1 Axes>"
            ]
          },
          "metadata": {
            "needs_background": "light"
          }
        },
        {
          "output_type": "display_data",
          "data": {
            "image/png": "[encoded data removed]",
            "text/plain": [
              "<Figure size 72x72 with 1 Axes>"
            ]
          },
          "metadata": {
            "needs_background": "light"
          }
        },
        {
          "output_type": "display_data",
          "data": {
            "image/png": "[encoded data removed]",
            "text/plain": [
              "<Figure size 72x72 with 1 Axes>"
            ]
          },
          "metadata": {
            "needs_background": "light"
          }
        },
        {
          "output_type": "display_data",
          "data": {
            "image/png": "[encoded data removed]",
            "text/plain": [
              "<Figure size 72x72 with 1 Axes>"
            ]
          },
          "metadata": {
            "needs_background": "light"
          }
        },
        {
          "output_type": "display_data",
          "data": {
            "image/png": "[encoded data removed]",
            "text/plain": [
              "<Figure size 72x72 with 1 Axes>"
            ]
          },
          "metadata": {
            "needs_background": "light"
          }
        },
        {
          "output_type": "display_data",
          "data": {
            "image/png": "[encoded data removed]",
            "text/plain": [
              "<Figure size 72x72 with 1 Axes>"
            ]
          },
          "metadata": {
            "needs_background": "light"
          }
        },
        {
          "output_type": "display_data",
          "data": {
            "image/png": "[encoded data removed]",
            "text/plain": [
              "<Figure size 72x72 with 1 Axes>"
            ]
          },
          "metadata": {
            "needs_background": "light"
          }
        },
        {
          "output_type": "display_data",
          "data": {
            "image/png": "[encoded data removed]",
            "text/plain": [
              "<Figure size 72x72 with 1 Axes>"
            ]
          },
          "metadata": {
            "needs_background": "light"
          }
        },
        {
          "output_type": "display_data",
          "data": {
            "image/png": "[encoded data removed]",
            "text/plain": [
              "<Figure size 72x72 with 1 Axes>"
            ]
          },
          "metadata": {
            "needs_background": "light"
          }
        }
      ],
      "source": [
        "generator = make_generator_model(128, 64)\n",
        "discriminator = make_discriminator_model(128,64, 0.5)\n",
        "train(train_dataset, EPOCHS, 0.5)"
      ]
    },
    {
      "cell_type": "code",
      "source": [
        "from PIL import Image\n",
        "dropout_rate = 0.5*100\n",
        "# get images \n",
        "\n",
        "img_list = []\n",
        "\n",
        "for i in range(16):\n",
        "  img= Image.open('image_{}_at_epoch_{:04d}_dropout_{}.png'.format(EPOCHS, i,dropout_rate))\n",
        "  img_list.append(img)\n",
        "\n",
        "# get width and height\n",
        "w, h = img_list[1].size\n",
        "\n",
        "\n",
        "# create big empty image with place for images\n",
        "new_image = Image.new('RGB', (w*4, h*4))\n",
        "\n",
        "counter = 0\n",
        "for i in range(4):\n",
        "  for j in range(4):\n",
        "    new_image.paste(img_list[counter],(w*i,h*j))\n",
        "    counter+=1\n",
        "\n",
        "# save it\n",
        "new_image.save('combined_image_dropout_{}.png'.format(dropout_rate))"
      ],
      "metadata": {
        "id": "zRirkcvVolQ5"
      },
      "execution_count": 45,
      "outputs": []
    },
    {
      "cell_type": "markdown",
      "metadata": {
        "id": "GPTQQsJlOguK"
      },
      "source": [
        "To create a gif of images as they are created in each epoch (if saved i each epoch):"
      ]
    },
    {
      "cell_type": "code",
      "execution_count": null,
      "metadata": {
        "id": "RYrWT6wggHUx"
      },
      "outputs": [],
      "source": [
        "import PIL \n",
        "# Display a single image using the epoch number\n",
        "def display_image(epoch_no):\n",
        "  return PIL.Image.open('image_at_epoch_{:04d}.png'.format(epoch_no))\n",
        "display_image(EPOCHS)"
      ]
    },
    {
      "cell_type": "code",
      "execution_count": null,
      "metadata": {
        "id": "XpP0BWI1gMwp"
      },
      "outputs": [],
      "source": [
        "import glob # The glob module is used for Unix style pathname pattern expansion.\n",
        "import imageio # The library that provides an easy interface to read and write a wide range of image data\n",
        "\n",
        "anim_file = 'dcgan.gif'\n",
        "\n",
        "with imageio.get_writer(anim_file, mode='I') as writer:\n",
        "  filenames = glob.glob('image*.png')\n",
        "  filenames = sorted(filenames)\n",
        "  for filename in filenames:\n",
        "    image = imageio.imread(filename)\n",
        "    writer.append_data(image)\n",
        "  # image = imageio.imread(filename)\n",
        "  # writer.append_data(image)\n",
        "  \n",
        "display.Image(open('dcgan.gif','rb').read())"
      ]
    },
    {
      "cell_type": "markdown",
      "metadata": {
        "id": "MWu3snRcG94B"
      },
      "source": [
        "## Other ideas: Classification model to classify images"
      ]
    },
    {
      "cell_type": "code",
      "execution_count": null,
      "metadata": {
        "id": "_jWwQf7aRikb"
      },
      "outputs": [],
      "source": [
        "#use images generated for classification\n",
        "\n",
        "# have a y-column with 0 for not real\n",
        "\n",
        "#create a new folder and put original and current photos together\n",
        "\n",
        "# have a y-column with 1 for real\n",
        "\n",
        "# use discriminator to predict which is which\n",
        "\n",
        "# Input shape of discriminator is [28, 28, 1]\n",
        "# how to input image"
      ]
    },
    {
      "cell_type": "markdown",
      "source": [
        "# What didn't work: Evaluating the model using Cross Validation"
      ],
      "metadata": {
        "id": "Dl-9jlpQxL7f"
      }
    },
    {
      "cell_type": "code",
      "execution_count": null,
      "metadata": {
        "id": "Y5Qd2aAwRn6M"
      },
      "outputs": [],
      "source": [
        "# I tried to evaluate the model using k-fold cross-validation"
      ]
    },
    {
      "cell_type": "code",
      "execution_count": null,
      "metadata": {
        "id": "ya0ADkS9NDtc"
      },
      "outputs": [],
      "source": [
        "# evaluate a model using k-fold cross-validation\n",
        "def evaluate_model(dataX, dataY, n_folds=5):\n",
        "\tscores, histories = list(), list()\n",
        "\t# prepare cross validation\n",
        "\tkfold = KFold(n_folds, shuffle=True, random_state=1)\n",
        "\t# enumerate splits\n",
        "\tfor train_ix, test_ix in kfold.split(dataX):\n",
        "\t\t# define model\n",
        "\t\t# select rows for train and test\n",
        "\t\ttrainX, trainY, testX, testY = dataX[train_ix], dataY[train_ix], dataX[test_ix], dataY[test_ix]\n",
        "\t\t# fit model\n",
        "\t\thistory = model.fit(trainX, trainY, epochs=10, batch_size=32, validation_data=(testX, testY), verbose=0)\n",
        "\t\t# evaluate model\n",
        "\t\t_, acc = model.evaluate(testX, testY, verbose=0)\n",
        "\t\tprint('> %.3f' % (acc * 100.0))\n",
        "\t\t# append scores\n",
        "\t\tscores.append(acc)\n",
        "\t\thistories.append(history)\n",
        "\treturn scores, histories"
      ]
    },
    {
      "cell_type": "code",
      "execution_count": null,
      "metadata": {
        "id": "rznJFgVjNKI3"
      },
      "outputs": [],
      "source": [
        "def summarize_diagnostics(histories):\n",
        "\tfor i in range(len(histories)):\n",
        "\t\t# plot loss\n",
        "\t\tpyplot.subplot(211)\n",
        "\t\tpyplot.title('Cross Entropy Loss')\n",
        "\t\tpyplot.plot(histories[i].history['loss'], color='blue', label='train')\n",
        "\t\tpyplot.plot(histories[i].history['val_loss'], color='orange', label='test')\n",
        "\t\t# plot accuracy\n",
        "\t\tpyplot.subplot(212)\n",
        "\t\tpyplot.title('Classification Accuracy')\n",
        "\t\tpyplot.plot(histories[i].history['accuracy'], color='blue', label='train')\n",
        "\t\tpyplot.plot(histories[i].history['val_accuracy'], color='orange', label='test')\n",
        "\tpyplot.show()"
      ]
    },
    {
      "cell_type": "code",
      "execution_count": null,
      "metadata": {
        "id": "udffNY8rNR6Q"
      },
      "outputs": [],
      "source": [
        "def summarize_performance(scores):\n",
        "\t# print summary\n",
        "\tprint('Accuracy: mean=%.3f std=%.3f, n=%d' % (mean(scores)*100, std(scores)*100, len(scores)))\n",
        "\t# box and whisker plots of results\n",
        "\tpyplot.boxplot(scores)\n",
        "\tpyplot.show()"
      ]
    },
    {
      "cell_type": "code",
      "execution_count": null,
      "metadata": {
        "colab": {
          "base_uri": "https://localhost:8080/",
          "height": 746
        },
        "id": "nvKAoBLrNUhv",
        "outputId": "72b3f653-357c-463c-899c-7142c380f638"
      },
      "outputs": [
        {
          "ename": "ValueError",
          "evalue": "ignored",
          "output_type": "error",
          "traceback": [
            "\u001b[0;31m---------------------------------------------------------------------------\u001b[0m",
            "\u001b[0;31mValueError\u001b[0m                                Traceback (most recent call last)",
            "\u001b[0;32m<ipython-input-106-0d88d6d4afde>\u001b[0m in \u001b[0;36m<module>\u001b[0;34m()\u001b[0m\n\u001b[1;32m      1\u001b[0m \u001b[0;32mfrom\u001b[0m \u001b[0msklearn\u001b[0m\u001b[0;34m.\u001b[0m\u001b[0mmodel_selection\u001b[0m \u001b[0;32mimport\u001b[0m \u001b[0mKFold\u001b[0m\u001b[0;34m\u001b[0m\u001b[0;34m\u001b[0m\u001b[0m\n\u001b[0;32m----> 2\u001b[0;31m \u001b[0mscores\u001b[0m\u001b[0;34m,\u001b[0m \u001b[0mhistories\u001b[0m \u001b[0;34m=\u001b[0m \u001b[0mevaluate_model\u001b[0m\u001b[0;34m(\u001b[0m\u001b[0mtrain_data\u001b[0m\u001b[0;34m,\u001b[0m \u001b[0mtrain_labels\u001b[0m\u001b[0;34m)\u001b[0m\u001b[0;34m\u001b[0m\u001b[0;34m\u001b[0m\u001b[0m\n\u001b[0m\u001b[1;32m      3\u001b[0m \u001b[0;31m# learning curves\u001b[0m\u001b[0;34m\u001b[0m\u001b[0;34m\u001b[0m\u001b[0;34m\u001b[0m\u001b[0m\n\u001b[1;32m      4\u001b[0m \u001b[0msummarize_diagnostics\u001b[0m\u001b[0;34m(\u001b[0m\u001b[0mhistories\u001b[0m\u001b[0;34m)\u001b[0m\u001b[0;34m\u001b[0m\u001b[0;34m\u001b[0m\u001b[0m\n\u001b[1;32m      5\u001b[0m \u001b[0;31m# summarize estimated performance\u001b[0m\u001b[0;34m\u001b[0m\u001b[0;34m\u001b[0m\u001b[0;34m\u001b[0m\u001b[0m\n",
            "\u001b[0;32m<ipython-input-103-904ad76f2625>\u001b[0m in \u001b[0;36mevaluate_model\u001b[0;34m(dataX, dataY, n_folds)\u001b[0m\n\u001b[1;32m     10\u001b[0m                 \u001b[0mtrainX\u001b[0m\u001b[0;34m,\u001b[0m \u001b[0mtrainY\u001b[0m\u001b[0;34m,\u001b[0m \u001b[0mtestX\u001b[0m\u001b[0;34m,\u001b[0m \u001b[0mtestY\u001b[0m \u001b[0;34m=\u001b[0m \u001b[0mdataX\u001b[0m\u001b[0;34m[\u001b[0m\u001b[0mtrain_ix\u001b[0m\u001b[0;34m]\u001b[0m\u001b[0;34m,\u001b[0m \u001b[0mdataY\u001b[0m\u001b[0;34m[\u001b[0m\u001b[0mtrain_ix\u001b[0m\u001b[0;34m]\u001b[0m\u001b[0;34m,\u001b[0m \u001b[0mdataX\u001b[0m\u001b[0;34m[\u001b[0m\u001b[0mtest_ix\u001b[0m\u001b[0;34m]\u001b[0m\u001b[0;34m,\u001b[0m \u001b[0mdataY\u001b[0m\u001b[0;34m[\u001b[0m\u001b[0mtest_ix\u001b[0m\u001b[0;34m]\u001b[0m\u001b[0;34m\u001b[0m\u001b[0;34m\u001b[0m\u001b[0m\n\u001b[1;32m     11\u001b[0m                 \u001b[0;31m# fit model\u001b[0m\u001b[0;34m\u001b[0m\u001b[0;34m\u001b[0m\u001b[0;34m\u001b[0m\u001b[0m\n\u001b[0;32m---> 12\u001b[0;31m                 \u001b[0mhistory\u001b[0m \u001b[0;34m=\u001b[0m \u001b[0mmodel\u001b[0m\u001b[0;34m.\u001b[0m\u001b[0mfit\u001b[0m\u001b[0;34m(\u001b[0m\u001b[0mtrainX\u001b[0m\u001b[0;34m,\u001b[0m \u001b[0mtrainY\u001b[0m\u001b[0;34m,\u001b[0m \u001b[0mepochs\u001b[0m\u001b[0;34m=\u001b[0m\u001b[0;36m10\u001b[0m\u001b[0;34m,\u001b[0m \u001b[0mbatch_size\u001b[0m\u001b[0;34m=\u001b[0m\u001b[0;36m32\u001b[0m\u001b[0;34m,\u001b[0m \u001b[0mvalidation_data\u001b[0m\u001b[0;34m=\u001b[0m\u001b[0;34m(\u001b[0m\u001b[0mtestX\u001b[0m\u001b[0;34m,\u001b[0m \u001b[0mtestY\u001b[0m\u001b[0;34m)\u001b[0m\u001b[0;34m,\u001b[0m \u001b[0mverbose\u001b[0m\u001b[0;34m=\u001b[0m\u001b[0;36m0\u001b[0m\u001b[0;34m)\u001b[0m\u001b[0;34m\u001b[0m\u001b[0;34m\u001b[0m\u001b[0m\n\u001b[0m\u001b[1;32m     13\u001b[0m                 \u001b[0;31m# evaluate model\u001b[0m\u001b[0;34m\u001b[0m\u001b[0;34m\u001b[0m\u001b[0;34m\u001b[0m\u001b[0m\n\u001b[1;32m     14\u001b[0m                 \u001b[0m_\u001b[0m\u001b[0;34m,\u001b[0m \u001b[0macc\u001b[0m \u001b[0;34m=\u001b[0m \u001b[0mmodel\u001b[0m\u001b[0;34m.\u001b[0m\u001b[0mevaluate\u001b[0m\u001b[0;34m(\u001b[0m\u001b[0mtestX\u001b[0m\u001b[0;34m,\u001b[0m \u001b[0mtestY\u001b[0m\u001b[0;34m,\u001b[0m \u001b[0mverbose\u001b[0m\u001b[0;34m=\u001b[0m\u001b[0;36m0\u001b[0m\u001b[0;34m)\u001b[0m\u001b[0;34m\u001b[0m\u001b[0;34m\u001b[0m\u001b[0m\n",
            "\u001b[0;32m/usr/local/lib/python3.7/dist-packages/keras/utils/traceback_utils.py\u001b[0m in \u001b[0;36merror_handler\u001b[0;34m(*args, **kwargs)\u001b[0m\n\u001b[1;32m     65\u001b[0m     \u001b[0;32mexcept\u001b[0m \u001b[0mException\u001b[0m \u001b[0;32mas\u001b[0m \u001b[0me\u001b[0m\u001b[0;34m:\u001b[0m  \u001b[0;31m# pylint: disable=broad-except\u001b[0m\u001b[0;34m\u001b[0m\u001b[0;34m\u001b[0m\u001b[0m\n\u001b[1;32m     66\u001b[0m       \u001b[0mfiltered_tb\u001b[0m \u001b[0;34m=\u001b[0m \u001b[0m_process_traceback_frames\u001b[0m\u001b[0;34m(\u001b[0m\u001b[0me\u001b[0m\u001b[0;34m.\u001b[0m\u001b[0m__traceback__\u001b[0m\u001b[0;34m)\u001b[0m\u001b[0;34m\u001b[0m\u001b[0;34m\u001b[0m\u001b[0m\n\u001b[0;32m---> 67\u001b[0;31m       \u001b[0;32mraise\u001b[0m \u001b[0me\u001b[0m\u001b[0;34m.\u001b[0m\u001b[0mwith_traceback\u001b[0m\u001b[0;34m(\u001b[0m\u001b[0mfiltered_tb\u001b[0m\u001b[0;34m)\u001b[0m \u001b[0;32mfrom\u001b[0m \u001b[0;32mNone\u001b[0m\u001b[0;34m\u001b[0m\u001b[0;34m\u001b[0m\u001b[0m\n\u001b[0m\u001b[1;32m     68\u001b[0m     \u001b[0;32mfinally\u001b[0m\u001b[0;34m:\u001b[0m\u001b[0;34m\u001b[0m\u001b[0;34m\u001b[0m\u001b[0m\n\u001b[1;32m     69\u001b[0m       \u001b[0;32mdel\u001b[0m \u001b[0mfiltered_tb\u001b[0m\u001b[0;34m\u001b[0m\u001b[0;34m\u001b[0m\u001b[0m\n",
            "\u001b[0;32m/usr/local/lib/python3.7/dist-packages/tensorflow/python/framework/func_graph.py\u001b[0m in \u001b[0;36mautograph_handler\u001b[0;34m(*args, **kwargs)\u001b[0m\n\u001b[1;32m   1127\u001b[0m           \u001b[0;32mexcept\u001b[0m \u001b[0mException\u001b[0m \u001b[0;32mas\u001b[0m \u001b[0me\u001b[0m\u001b[0;34m:\u001b[0m  \u001b[0;31m# pylint:disable=broad-except\u001b[0m\u001b[0;34m\u001b[0m\u001b[0;34m\u001b[0m\u001b[0m\n\u001b[1;32m   1128\u001b[0m             \u001b[0;32mif\u001b[0m \u001b[0mhasattr\u001b[0m\u001b[0;34m(\u001b[0m\u001b[0me\u001b[0m\u001b[0;34m,\u001b[0m \u001b[0;34m\"ag_error_metadata\"\u001b[0m\u001b[0;34m)\u001b[0m\u001b[0;34m:\u001b[0m\u001b[0;34m\u001b[0m\u001b[0;34m\u001b[0m\u001b[0m\n\u001b[0;32m-> 1129\u001b[0;31m               \u001b[0;32mraise\u001b[0m \u001b[0me\u001b[0m\u001b[0;34m.\u001b[0m\u001b[0mag_error_metadata\u001b[0m\u001b[0;34m.\u001b[0m\u001b[0mto_exception\u001b[0m\u001b[0;34m(\u001b[0m\u001b[0me\u001b[0m\u001b[0;34m)\u001b[0m\u001b[0;34m\u001b[0m\u001b[0;34m\u001b[0m\u001b[0m\n\u001b[0m\u001b[1;32m   1130\u001b[0m             \u001b[0;32melse\u001b[0m\u001b[0;34m:\u001b[0m\u001b[0;34m\u001b[0m\u001b[0;34m\u001b[0m\u001b[0m\n\u001b[1;32m   1131\u001b[0m               \u001b[0;32mraise\u001b[0m\u001b[0;34m\u001b[0m\u001b[0;34m\u001b[0m\u001b[0m\n",
            "\u001b[0;31mValueError\u001b[0m: in user code:\n\n    File \"/usr/local/lib/python3.7/dist-packages/keras/engine/training.py\", line 878, in train_function  *\n        return step_function(self, iterator)\n    File \"/usr/local/lib/python3.7/dist-packages/keras/engine/training.py\", line 867, in step_function  **\n        outputs = model.distribute_strategy.run(run_step, args=(data,))\n    File \"/usr/local/lib/python3.7/dist-packages/keras/engine/training.py\", line 860, in run_step  **\n        outputs = model.train_step(data)\n    File \"/usr/local/lib/python3.7/dist-packages/keras/engine/training.py\", line 810, in train_step\n        y, y_pred, sample_weight, regularization_losses=self.losses)\n    File \"/usr/local/lib/python3.7/dist-packages/keras/engine/compile_utils.py\", line 201, in __call__\n        loss_value = loss_obj(y_t, y_p, sample_weight=sw)\n    File \"/usr/local/lib/python3.7/dist-packages/keras/losses.py\", line 141, in __call__\n        losses = call_fn(y_true, y_pred)\n    File \"/usr/local/lib/python3.7/dist-packages/keras/losses.py\", line 245, in call  **\n        return ag_fn(y_true, y_pred, **self._fn_kwargs)\n    File \"/usr/local/lib/python3.7/dist-packages/keras/losses.py\", line 1665, in categorical_crossentropy\n        y_true, y_pred, from_logits=from_logits, axis=axis)\n    File \"/usr/local/lib/python3.7/dist-packages/keras/backend.py\", line 4994, in categorical_crossentropy\n        target.shape.assert_is_compatible_with(output.shape)\n\n    ValueError: Shapes (32, 10, 10, 10, 10) and (32, 10) are incompatible\n"
          ]
        }
      ],
      "source": [
        "from sklearn.model_selection import KFold\n",
        "scores, histories = evaluate_model(train_data, train_labels)\n",
        "# learning curves\n",
        "summarize_diagnostics(histories)\n",
        "# summarize estimated performance\n",
        "summarize_performance(scores)\n"
      ]
    }
  ],
  "metadata": {
    "accelerator": "GPU",
    "colab": {
      "collapsed_sections": [],
      "name": "Final_submission_DeepLearning_VaniKanoria.ipynb",
      "provenance": [],
      "authorship_tag": "ABX9TyOarEbcdxOOB7xoxH4W4ksQ",
      "include_colab_link": true
    },
    "kernelspec": {
      "display_name": "Python 3",
      "name": "python3"
    },
    "language_info": {
      "name": "python"
    }
  },
  "nbformat": 4,
  "nbformat_minor": 0
}