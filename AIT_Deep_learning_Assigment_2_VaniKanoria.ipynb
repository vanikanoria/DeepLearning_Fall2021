{
  "nbformat": 4,
  "nbformat_minor": 0,
  "metadata": {
    "kernelspec": {
      "display_name": "Python 3",
      "language": "python",
      "name": "python3"
    },
    "language_info": {
      "codemirror_mode": {
        "name": "ipython",
        "version": 3
      },
      "file_extension": ".py",
      "mimetype": "text/x-python",
      "name": "python",
      "nbconvert_exporter": "python",
      "pygments_lexer": "ipython3",
      "version": "3.6.6"
    },
    "colab": {
      "name": "AIT-Deep-learning-Assigment-2_VaniKanoria",
      "provenance": [],
      "collapsed_sections": [],
      "include_colab_link": true
    },
    "accelerator": "GPU"
  },
  "cells": [
    {
      "cell_type": "markdown",
      "metadata": {
        "id": "view-in-github",
        "colab_type": "text"
      },
      "source": [
        "<a href=\"https://colab.research.google.com/github/vanikanoria/DeepLearning_Fall2021/blob/main/AIT_Deep_learning_Assigment_2_VaniKanoria.ipynb\" target=\"_parent\"><img src=\"https://colab.research.google.com/assets/colab-badge.svg\" alt=\"Open In Colab\"/></a>"
      ]
    },
    {
      "cell_type": "markdown",
      "metadata": {
        "id": "_jiGtJu6u9ml"
      },
      "source": [
        "# Copyright\n",
        "\n",
        "<PRE>\n",
        "Copyright (c) 2021 Bálint Gyires-Tóth - All Rights Reserved\n",
        "You may use and modify this code for research and development purpuses.\n",
        "Use this code for educational purposes (self-paced or instructor led) without the permission of the author is prohibited.\n",
        "</PRE>"
      ]
    },
    {
      "cell_type": "markdown",
      "metadata": {
        "id": "oXyFC44jV-PP"
      },
      "source": [
        "# Author classification\n",
        "The task is to train a 1D CNN or an LSTM that is able to  classify text from two authors. The final model should be able to tell about a text with a given length (e.g. 60 characters) who wrote it. \n",
        "\n",
        "Please write the codes according to the following parts:"
      ]
    },
    {
      "cell_type": "markdown",
      "metadata": {
        "id": "jCnLoeGrHXsp"
      },
      "source": [
        "## Python module imports\n",
        "Import all Python modules that you would need during the Assignment."
      ]
    },
    {
      "cell_type": "code",
      "metadata": {
        "id": "7itbFGt3HXVT"
      },
      "source": [
        "import pandas as pd\n",
        "import numpy as np\n",
        "from tensorflow.keras.layers import Dense, Dropout, BatchNormalization, Activation\n",
        "from tensorflow.keras.callbacks import EarlyStopping, TensorBoard\n",
        "from tensorflow.keras.models import Sequential\n",
        "from tensorflow.keras.layers import Flatten, Conv1D, MaxPool1D\n",
        "import matplotlib.pyplot as plt\n",
        "# step1 : import LSTM from tensorflow.keras.layers\n",
        "from tensorflow.keras.layers import LSTM\n",
        "# step2 : modify the model to have an LSTM instead of the conv1d and maxpooling layers\n",
        "\n",
        "# CNN\n",
        "from tensorflow.keras.layers import Conv2D, MaxPool2D, Flatten"
      ],
      "execution_count": 2,
      "outputs": []
    },
    {
      "cell_type": "markdown",
      "metadata": {
        "id": "Hr617tEpHd8R"
      },
      "source": [
        "## Data acquisition\n",
        "Seek a possible dataset, you can use any source, e.g.\n",
        "* http://www.gutenberg.org/\n",
        "* https://www.kaggle.com/datasets\n",
        "* https://paperswithcode.com/datasets\n",
        "* if you would like to learn Hungarian, than e.g. https://mek.oszk.hu/\n",
        "\n",
        "You can download the text by hand (e.g. by copy-pasting some parts into txt files) or with Python. "
      ]
    },
    {
      "cell_type": "code",
      "metadata": {
        "id": "NgkdQxHqHdZB"
      },
      "source": [
        "# I downloaded text files of Pride and Prejudice by Jane Austen, and The Adventures of Sherlock Holmes, by Arthur Conan Doyle from the Gutenberg Project website"
      ],
      "execution_count": 3,
      "outputs": []
    },
    {
      "cell_type": "code",
      "metadata": {
        "colab": {
          "base_uri": "https://localhost:8080/"
        },
        "id": "KtFVWWBgqcuM",
        "outputId": "990a335e-7a33-4b2e-aacf-f49ab7bd4118"
      },
      "source": [
        "#downloading pride and prejudice dataset from website\n",
        "!wget https://www.gutenberg.org/files/1342/1342-0.txt -O text_austen.txt"
      ],
      "execution_count": 4,
      "outputs": [
        {
          "output_type": "stream",
          "name": "stdout",
          "text": [
            "--2021-11-25 19:08:28--  https://www.gutenberg.org/files/1342/1342-0.txt\n",
            "Resolving www.gutenberg.org (www.gutenberg.org)... 152.19.134.47, 2610:28:3090:3000:0:bad:cafe:47\n",
            "Connecting to www.gutenberg.org (www.gutenberg.org)|152.19.134.47|:443... connected.\n",
            "HTTP request sent, awaiting response... 200 OK\n",
            "Length: 798774 (780K) [text/plain]\n",
            "Saving to: ‘text_austen.txt’\n",
            "\n",
            "text_austen.txt     100%[===================>] 780.05K  4.52MB/s    in 0.2s    \n",
            "\n",
            "2021-11-25 19:08:28 (4.52 MB/s) - ‘text_austen.txt’ saved [798774/798774]\n",
            "\n"
          ]
        }
      ]
    },
    {
      "cell_type": "code",
      "metadata": {
        "colab": {
          "base_uri": "https://localhost:8080/"
        },
        "id": "gFGIkhoLqpes",
        "outputId": "73546915-8dbc-4374-85be-294a8912688c"
      },
      "source": [
        "#downloading adventures of sherlock homes dataset\n",
        "!wget https://www.gutenberg.org/files/48320/48320-0.txt -O text_doyle.txt"
      ],
      "execution_count": 5,
      "outputs": [
        {
          "output_type": "stream",
          "name": "stdout",
          "text": [
            "--2021-11-25 19:08:28--  https://www.gutenberg.org/files/48320/48320-0.txt\n",
            "Resolving www.gutenberg.org (www.gutenberg.org)... 152.19.134.47, 2610:28:3090:3000:0:bad:cafe:47\n",
            "Connecting to www.gutenberg.org (www.gutenberg.org)|152.19.134.47|:443... connected.\n",
            "HTTP request sent, awaiting response... 200 OK\n",
            "Length: 622136 (608K) [text/plain]\n",
            "Saving to: ‘text_doyle.txt’\n",
            "\n",
            "text_doyle.txt      100%[===================>] 607.55K  3.60MB/s    in 0.2s    \n",
            "\n",
            "2021-11-25 19:08:28 (3.60 MB/s) - ‘text_doyle.txt’ saved [622136/622136]\n",
            "\n"
          ]
        }
      ]
    },
    {
      "cell_type": "markdown",
      "metadata": {
        "id": "cHyE_ndGIblJ"
      },
      "source": [
        "## Data loading, labeling and preprocessing\n",
        "Load the data and convert the characters into one-hot encodings. Then load the data into a 3D NumPy array, with a shape of\n",
        "\n",
        "* (batch, sequence_length, alphabet_length)\n",
        "\n",
        "where sequence_length=60, and alphabet_length equals to the number of unique characters in both datasets. The sequences should be cut out from the complete dataset by sliding window. You should add 0 and 1 labels to the sequences, according to the author. \n",
        "\n",
        "Later you may change sequence_length to achieve better results!"
      ]
    },
    {
      "cell_type": "code",
      "metadata": {
        "id": "arooXt0WIb6x"
      },
      "source": [
        "#Make some modifications to the code from Nov 23\n",
        "#first modication: consider both datasets when considering the vocab\n",
        "#chars_author1, #chars_author2 and then combine\n",
        "\n",
        "#cut both texts into 60 charcters 'sentences'\n",
        "#like binary classification: 0 for author 1, 1 for 2\n",
        "# for Y, size will be 1 instead of len(cjars)\n",
        "\n",
        "#Load the data\n",
        "text_austen = open(\"text_austen.txt\", encoding='utf-8').read().lower()\n",
        "text_doyle = open(\"text_doyle.txt\", encoding='utf-8').read().lower()"
      ],
      "execution_count": 6,
      "outputs": []
    },
    {
      "cell_type": "code",
      "metadata": {
        "colab": {
          "base_uri": "https://localhost:8080/"
        },
        "id": "W8kXHXPJXdyH",
        "outputId": "853e26b7-a5c0-4a9c-da1e-b9f246ebd0a6"
      },
      "source": [
        "len(text_austen), len(text_doyle)"
      ],
      "execution_count": 7,
      "outputs": [
        {
          "output_type": "execute_result",
          "data": {
            "text/plain": [
              "(774838, 595403)"
            ]
          },
          "metadata": {},
          "execution_count": 7
        }
      ]
    },
    {
      "cell_type": "code",
      "metadata": {
        "id": "OoyZ_75fXmou"
      },
      "source": [
        "# Using only the firsy 150,000 characters of each the Jane Austen and Arthur Conan Doyle texts\n",
        "# since the session crashes if I use the whole thing\n",
        "text_austen = text_austen[:150000]\n",
        "text_doyle = text_doyle[:150000]"
      ],
      "execution_count": 8,
      "outputs": []
    },
    {
      "cell_type": "code",
      "metadata": {
        "colab": {
          "base_uri": "https://localhost:8080/"
        },
        "id": "QqkCBMrKAkhc",
        "outputId": "02db4525-d074-4b2f-9ec1-500462f20402"
      },
      "source": [
        "len(text_austen), len(text_doyle)"
      ],
      "execution_count": 9,
      "outputs": [
        {
          "output_type": "execute_result",
          "data": {
            "text/plain": [
              "(150000, 150000)"
            ]
          },
          "metadata": {},
          "execution_count": 9
        }
      ]
    },
    {
      "cell_type": "code",
      "metadata": {
        "colab": {
          "base_uri": "https://localhost:8080/"
        },
        "id": "XD57-K78AqXb",
        "outputId": "357212d7-4bc6-4766-bdf5-95fa9c345ebe"
      },
      "source": [
        "#character list: austen\n",
        "chars_austen = sorted(list(set(text_austen)))\n",
        "chars_austen"
      ],
      "execution_count": 10,
      "outputs": [
        {
          "output_type": "execute_result",
          "data": {
            "text/plain": [
              "['\\n',\n",
              " ' ',\n",
              " '!',\n",
              " '#',\n",
              " '&',\n",
              " '(',\n",
              " ')',\n",
              " '*',\n",
              " ',',\n",
              " '-',\n",
              " '.',\n",
              " '0',\n",
              " '1',\n",
              " '2',\n",
              " '3',\n",
              " '4',\n",
              " '5',\n",
              " '6',\n",
              " '7',\n",
              " '8',\n",
              " '9',\n",
              " ':',\n",
              " ';',\n",
              " '?',\n",
              " '[',\n",
              " ']',\n",
              " '_',\n",
              " 'a',\n",
              " 'b',\n",
              " 'c',\n",
              " 'd',\n",
              " 'e',\n",
              " 'f',\n",
              " 'g',\n",
              " 'h',\n",
              " 'i',\n",
              " 'j',\n",
              " 'k',\n",
              " 'l',\n",
              " 'm',\n",
              " 'n',\n",
              " 'o',\n",
              " 'p',\n",
              " 'q',\n",
              " 'r',\n",
              " 's',\n",
              " 't',\n",
              " 'u',\n",
              " 'v',\n",
              " 'w',\n",
              " 'x',\n",
              " 'y',\n",
              " 'z',\n",
              " 'à',\n",
              " 'ê',\n",
              " '—',\n",
              " '‘',\n",
              " '’',\n",
              " '“',\n",
              " '”',\n",
              " '\\ufeff']"
            ]
          },
          "metadata": {},
          "execution_count": 10
        }
      ]
    },
    {
      "cell_type": "code",
      "metadata": {
        "colab": {
          "base_uri": "https://localhost:8080/"
        },
        "id": "nwqYOT4qAyoA",
        "outputId": "44120569-b943-4ed4-f58b-41172ca4f02c"
      },
      "source": [
        "#character list: doyle\n",
        "chars_doyle = sorted(list(set(text_doyle)))\n",
        "chars_doyle"
      ],
      "execution_count": 11,
      "outputs": [
        {
          "output_type": "execute_result",
          "data": {
            "text/plain": [
              "['\\n',\n",
              " ' ',\n",
              " '!',\n",
              " '#',\n",
              " '&',\n",
              " \"'\",\n",
              " '(',\n",
              " ')',\n",
              " '*',\n",
              " ',',\n",
              " '-',\n",
              " '.',\n",
              " '/',\n",
              " '0',\n",
              " '1',\n",
              " '2',\n",
              " '3',\n",
              " '4',\n",
              " '5',\n",
              " '6',\n",
              " '7',\n",
              " '8',\n",
              " '9',\n",
              " ':',\n",
              " ';',\n",
              " '?',\n",
              " '[',\n",
              " ']',\n",
              " '_',\n",
              " 'a',\n",
              " 'b',\n",
              " 'c',\n",
              " 'd',\n",
              " 'e',\n",
              " 'f',\n",
              " 'g',\n",
              " 'h',\n",
              " 'i',\n",
              " 'j',\n",
              " 'k',\n",
              " 'l',\n",
              " 'm',\n",
              " 'n',\n",
              " 'o',\n",
              " 'p',\n",
              " 'q',\n",
              " 'r',\n",
              " 's',\n",
              " 't',\n",
              " 'u',\n",
              " 'v',\n",
              " 'w',\n",
              " 'x',\n",
              " 'y',\n",
              " 'z',\n",
              " '£',\n",
              " 'æ',\n",
              " 'é',\n",
              " 'œ',\n",
              " '\\u2002',\n",
              " '—',\n",
              " '‘',\n",
              " '’',\n",
              " '“',\n",
              " '”',\n",
              " '″',\n",
              " '\\ufeff']"
            ]
          },
          "metadata": {},
          "execution_count": 11
        }
      ]
    },
    {
      "cell_type": "code",
      "metadata": {
        "colab": {
          "base_uri": "https://localhost:8080/"
        },
        "id": "Spt8lNFwYCRF",
        "outputId": "f26af083-b11c-4da0-c87e-82661c533118"
      },
      "source": [
        "len(chars_austen), len(chars_doyle)"
      ],
      "execution_count": 12,
      "outputs": [
        {
          "output_type": "execute_result",
          "data": {
            "text/plain": [
              "(61, 67)"
            ]
          },
          "metadata": {},
          "execution_count": 12
        }
      ]
    },
    {
      "cell_type": "code",
      "metadata": {
        "colab": {
          "base_uri": "https://localhost:8080/"
        },
        "id": "H0u10rkEA-zm",
        "outputId": "89906abd-2c29-4a94-9168-c51de34a07d6"
      },
      "source": [
        "#Combine lists and remove duplicates\n",
        "chars_both = sorted(list(set(chars_austen).union(set(chars_doyle))))\n",
        "chars_both"
      ],
      "execution_count": 13,
      "outputs": [
        {
          "output_type": "execute_result",
          "data": {
            "text/plain": [
              "['\\n',\n",
              " ' ',\n",
              " '!',\n",
              " '#',\n",
              " '&',\n",
              " \"'\",\n",
              " '(',\n",
              " ')',\n",
              " '*',\n",
              " ',',\n",
              " '-',\n",
              " '.',\n",
              " '/',\n",
              " '0',\n",
              " '1',\n",
              " '2',\n",
              " '3',\n",
              " '4',\n",
              " '5',\n",
              " '6',\n",
              " '7',\n",
              " '8',\n",
              " '9',\n",
              " ':',\n",
              " ';',\n",
              " '?',\n",
              " '[',\n",
              " ']',\n",
              " '_',\n",
              " 'a',\n",
              " 'b',\n",
              " 'c',\n",
              " 'd',\n",
              " 'e',\n",
              " 'f',\n",
              " 'g',\n",
              " 'h',\n",
              " 'i',\n",
              " 'j',\n",
              " 'k',\n",
              " 'l',\n",
              " 'm',\n",
              " 'n',\n",
              " 'o',\n",
              " 'p',\n",
              " 'q',\n",
              " 'r',\n",
              " 's',\n",
              " 't',\n",
              " 'u',\n",
              " 'v',\n",
              " 'w',\n",
              " 'x',\n",
              " 'y',\n",
              " 'z',\n",
              " '£',\n",
              " 'à',\n",
              " 'æ',\n",
              " 'é',\n",
              " 'ê',\n",
              " 'œ',\n",
              " '\\u2002',\n",
              " '—',\n",
              " '‘',\n",
              " '’',\n",
              " '“',\n",
              " '”',\n",
              " '″',\n",
              " '\\ufeff']"
            ]
          },
          "metadata": {},
          "execution_count": 13
        }
      ]
    },
    {
      "cell_type": "code",
      "metadata": {
        "colab": {
          "base_uri": "https://localhost:8080/"
        },
        "id": "7rMQBQfMDxrQ",
        "outputId": "e7b1da2b-aa82-4251-a780-9c957cd59efb"
      },
      "source": [
        "len(chars_both)\n"
      ],
      "execution_count": 14,
      "outputs": [
        {
          "output_type": "execute_result",
          "data": {
            "text/plain": [
              "69"
            ]
          },
          "metadata": {},
          "execution_count": 14
        }
      ]
    },
    {
      "cell_type": "code",
      "metadata": {
        "id": "L0EllSZ8D2DL"
      },
      "source": [
        "#Create character to index and vice versa dictionaries\n",
        "char_2_index = dict((c,i) for i, c in enumerate(chars_both)) \n",
        "index_2_char = dict((i,c) for i, c in enumerate(chars_both))"
      ],
      "execution_count": 15,
      "outputs": []
    },
    {
      "cell_type": "code",
      "metadata": {
        "id": "rSmCcn4xD8pk"
      },
      "source": [
        "maxlen = 40 #Length of each sentences\n",
        "step   = 3  #how much the beginning of each sentence skips over\n",
        "\n",
        "df = pd.DataFrame\n",
        "sentences = []\n",
        "Y = []\n",
        "is_austen = 0\n",
        "is_doyle = 1"
      ],
      "execution_count": 16,
      "outputs": []
    },
    {
      "cell_type": "code",
      "metadata": {
        "id": "R8IAyFAXEhSn"
      },
      "source": [
        "#if Austen, Y(that sentence) = 0, If Doyle(that sentence), Y = 1\n",
        "#austen\n",
        "for i in range(0, len(text_austen)-maxlen, step):\n",
        "  sentences.append(text_austen[i:i+maxlen])\n",
        "  Y.append(is_austen)\n",
        "\n",
        "#doyle\n",
        "for i in range(0, len(text_doyle)-maxlen, step):\n",
        "  sentences.append(text_doyle[i:i+maxlen])\n",
        "  Y.append(is_doyle)"
      ],
      "execution_count": 17,
      "outputs": []
    },
    {
      "cell_type": "code",
      "metadata": {
        "id": "P74v86w6gG_x"
      },
      "source": [
        "#Create dictionary with sentences and respective author_values\n",
        "dict1 = {'Sentence': sentences, 'Author':Y}\n",
        "df = pd.DataFrame(dict1, columns=['Sentence','Author'])"
      ],
      "execution_count": 18,
      "outputs": []
    },
    {
      "cell_type": "code",
      "metadata": {
        "id": "V4CdEKyG5cgy"
      },
      "source": [
        "#Shuffle the sentences along with their respective Y-values!\n",
        "shuffled_df = df.iloc[np.random.permutation(len(df))]"
      ],
      "execution_count": 19,
      "outputs": []
    },
    {
      "cell_type": "code",
      "metadata": {
        "colab": {
          "base_uri": "https://localhost:8080/",
          "height": 669
        },
        "id": "IJykunOR6Yco",
        "outputId": "fa5310d8-134e-4c93-cf3c-d847ceb402eb"
      },
      "source": [
        "shuffled_df.head(20)"
      ],
      "execution_count": 20,
      "outputs": [
        {
          "output_type": "execute_result",
          "data": {
            "text/html": [
              "<div>\n",
              "<style scoped>\n",
              "    .dataframe tbody tr th:only-of-type {\n",
              "        vertical-align: middle;\n",
              "    }\n",
              "\n",
              "    .dataframe tbody tr th {\n",
              "        vertical-align: top;\n",
              "    }\n",
              "\n",
              "    .dataframe thead th {\n",
              "        text-align: right;\n",
              "    }\n",
              "</style>\n",
              "<table border=\"1\" class=\"dataframe\">\n",
              "  <thead>\n",
              "    <tr style=\"text-align: right;\">\n",
              "      <th></th>\n",
              "      <th>Sentence</th>\n",
              "      <th>Author</th>\n",
              "    </tr>\n",
              "  </thead>\n",
              "  <tbody>\n",
              "    <tr>\n",
              "      <th>91811</th>\n",
              "      <td>found sherlock holmes alone, however, ha</td>\n",
              "      <td>1</td>\n",
              "    </tr>\n",
              "    <tr>\n",
              "      <th>70299</th>\n",
              "      <td>had a\\ngreat sympathy for all red-headed</td>\n",
              "      <td>1</td>\n",
              "    </tr>\n",
              "    <tr>\n",
              "      <th>32432</th>\n",
              "      <td>away\\n      without telling us that you w</td>\n",
              "      <td>0</td>\n",
              "    </tr>\n",
              "    <tr>\n",
              "      <th>4740</th>\n",
              "      <td>ve, he had brought only six with him fro</td>\n",
              "      <td>0</td>\n",
              "    </tr>\n",
              "    <tr>\n",
              "      <th>41530</th>\n",
              "      <td>er. does she live near\\n      you, sir?”\\n</td>\n",
              "      <td>0</td>\n",
              "    </tr>\n",
              "    <tr>\n",
              "      <th>23179</th>\n",
              "      <td>all of them, i think. they all paint ta</td>\n",
              "      <td>0</td>\n",
              "    </tr>\n",
              "    <tr>\n",
              "      <th>15053</th>\n",
              "      <td>“you have a house in town, i conclude?”</td>\n",
              "      <td>0</td>\n",
              "    </tr>\n",
              "    <tr>\n",
              "      <th>78742</th>\n",
              "      <td>gdon street.\\n\\n“we are close there now,”</td>\n",
              "      <td>1</td>\n",
              "    </tr>\n",
              "    <tr>\n",
              "      <th>93680</th>\n",
              "      <td>her fair personal advantages, and her\\nl</td>\n",
              "      <td>1</td>\n",
              "    </tr>\n",
              "    <tr>\n",
              "      <th>56497</th>\n",
              "      <td>tried and failed.”\\n\\n“your majesty must</td>\n",
              "      <td>1</td>\n",
              "    </tr>\n",
              "    <tr>\n",
              "      <th>71973</th>\n",
              "      <td>ht that i was not\\nto have the vacancy af</td>\n",
              "      <td>1</td>\n",
              "    </tr>\n",
              "    <tr>\n",
              "      <th>76723</th>\n",
              "      <td>were as unlike those\\nof holmes, the sleu</td>\n",
              "      <td>1</td>\n",
              "    </tr>\n",
              "    <tr>\n",
              "      <th>50619</th>\n",
              "      <td>\\n\\nillustrations\\n\\n\\n    “the gentleman in</td>\n",
              "      <td>1</td>\n",
              "    </tr>\n",
              "    <tr>\n",
              "      <th>57484</th>\n",
              "      <td>beside the\\nfire, however, with the inte</td>\n",
              "      <td>1</td>\n",
              "    </tr>\n",
              "    <tr>\n",
              "      <th>92153</th>\n",
              "      <td>uld be here at six. come in!”\\n\\nthe man w</td>\n",
              "      <td>1</td>\n",
              "    </tr>\n",
              "    <tr>\n",
              "      <th>83471</th>\n",
              "      <td>than upon the details, which to an obser</td>\n",
              "      <td>1</td>\n",
              "    </tr>\n",
              "    <tr>\n",
              "      <th>2763</th>\n",
              "      <td>y.\\n      “when is your next ball to be,</td>\n",
              "      <td>0</td>\n",
              "    </tr>\n",
              "    <tr>\n",
              "      <th>91222</th>\n",
              "      <td>an action for breach of promise were ins</td>\n",
              "      <td>1</td>\n",
              "    </tr>\n",
              "    <tr>\n",
              "      <th>39632</th>\n",
              "      <td>sible man,\\n      sir?”\\n\\n      “no, my de</td>\n",
              "      <td>0</td>\n",
              "    </tr>\n",
              "    <tr>\n",
              "      <th>6046</th>\n",
              "      <td>t handsome enough to tempt _me_; and i\\n</td>\n",
              "      <td>0</td>\n",
              "    </tr>\n",
              "  </tbody>\n",
              "</table>\n",
              "</div>"
            ],
            "text/plain": [
              "                                            Sentence  Author\n",
              "91811       found sherlock holmes alone, however, ha       1\n",
              "70299      had a\\ngreat sympathy for all red-headed        1\n",
              "32432      away\\n      without telling us that you w       0\n",
              "4740        ve, he had brought only six with him fro       0\n",
              "41530     er. does she live near\\n      you, sir?”\\n       0\n",
              "23179        all of them, i think. they all paint ta       0\n",
              "15053        “you have a house in town, i conclude?”       0\n",
              "78742     gdon street.\\n\\n“we are close there now,”        1\n",
              "93680       her fair personal advantages, and her\\nl       1\n",
              "56497      tried and failed.”\\n\\n“your majesty must        1\n",
              "71973      ht that i was not\\nto have the vacancy af       1\n",
              "76723      were as unlike those\\nof holmes, the sleu       1\n",
              "50619  \\n\\nillustrations\\n\\n\\n    “the gentleman in        1\n",
              "57484       beside the\\nfire, however, with the inte       1\n",
              "92153     uld be here at six. come in!”\\n\\nthe man w       1\n",
              "83471       than upon the details, which to an obser       1\n",
              "2763       y.\\n      “when is your next ball to be,        0\n",
              "91222       an action for breach of promise were ins       1\n",
              "39632    sible man,\\n      sir?”\\n\\n      “no, my de       0\n",
              "6046       t handsome enough to tempt _me_; and i\\n        0"
            ]
          },
          "metadata": {},
          "execution_count": 20
        }
      ]
    },
    {
      "cell_type": "code",
      "metadata": {
        "id": "_Fd7ANZ-EilX"
      },
      "source": [
        "# constructing one hot encodings for df['Sentence']\n",
        "# Let X = df['Sentence']\n",
        "X = np.zeros((len(shuffled_df['Sentence']), maxlen, len(chars_both))) # LSTM: no_samples,seq,dimension\n",
        "for i, sentence in enumerate(shuffled_df['Sentence']):\n",
        "  for t, char in enumerate(sentence):\n",
        "    X[i,t,char_2_index[char]] = 1\n",
        "#and numpy vector for y\n",
        "#Y = np.array(Y) "
      ],
      "execution_count": 21,
      "outputs": []
    },
    {
      "cell_type": "code",
      "metadata": {
        "colab": {
          "base_uri": "https://localhost:8080/"
        },
        "id": "3dgwRpZHUbsk",
        "outputId": "57bbd22e-f92d-4be8-f60c-d87cfce4dbdc"
      },
      "source": [
        "\n",
        "X"
      ],
      "execution_count": 22,
      "outputs": [
        {
          "output_type": "execute_result",
          "data": {
            "text/plain": [
              "array([[[0., 0., 0., ..., 0., 0., 0.],\n",
              "        [0., 0., 0., ..., 0., 0., 0.],\n",
              "        [0., 0., 0., ..., 0., 0., 0.],\n",
              "        ...,\n",
              "        [0., 1., 0., ..., 0., 0., 0.],\n",
              "        [0., 0., 0., ..., 0., 0., 0.],\n",
              "        [0., 0., 0., ..., 0., 0., 0.]],\n",
              "\n",
              "       [[0., 0., 0., ..., 0., 0., 0.],\n",
              "        [0., 0., 0., ..., 0., 0., 0.],\n",
              "        [0., 0., 0., ..., 0., 0., 0.],\n",
              "        ...,\n",
              "        [0., 0., 0., ..., 0., 0., 0.],\n",
              "        [0., 0., 0., ..., 0., 0., 0.],\n",
              "        [0., 1., 0., ..., 0., 0., 0.]],\n",
              "\n",
              "       [[0., 0., 0., ..., 0., 0., 0.],\n",
              "        [0., 0., 0., ..., 0., 0., 0.],\n",
              "        [0., 0., 0., ..., 0., 0., 0.],\n",
              "        ...,\n",
              "        [0., 0., 0., ..., 0., 0., 0.],\n",
              "        [0., 1., 0., ..., 0., 0., 0.],\n",
              "        [0., 0., 0., ..., 0., 0., 0.]],\n",
              "\n",
              "       ...,\n",
              "\n",
              "       [[0., 0., 0., ..., 0., 0., 0.],\n",
              "        [0., 0., 0., ..., 0., 0., 0.],\n",
              "        [0., 0., 0., ..., 0., 0., 0.],\n",
              "        ...,\n",
              "        [0., 0., 0., ..., 0., 0., 0.],\n",
              "        [0., 1., 0., ..., 0., 0., 0.],\n",
              "        [0., 0., 0., ..., 0., 0., 0.]],\n",
              "\n",
              "       [[0., 1., 0., ..., 0., 0., 0.],\n",
              "        [0., 0., 0., ..., 0., 0., 0.],\n",
              "        [0., 0., 0., ..., 0., 0., 0.],\n",
              "        ...,\n",
              "        [0., 0., 0., ..., 0., 0., 0.],\n",
              "        [0., 1., 0., ..., 0., 0., 0.],\n",
              "        [0., 0., 0., ..., 0., 0., 0.]],\n",
              "\n",
              "       [[0., 0., 0., ..., 0., 0., 0.],\n",
              "        [0., 1., 0., ..., 0., 0., 0.],\n",
              "        [0., 0., 0., ..., 0., 0., 0.],\n",
              "        ...,\n",
              "        [1., 0., 0., ..., 0., 0., 0.],\n",
              "        [1., 0., 0., ..., 0., 0., 0.],\n",
              "        [0., 0., 0., ..., 0., 0., 0.]]])"
            ]
          },
          "metadata": {},
          "execution_count": 22
        }
      ]
    },
    {
      "cell_type": "code",
      "metadata": {
        "colab": {
          "base_uri": "https://localhost:8080/"
        },
        "id": "u1DOooIhUdnb",
        "outputId": "80ee9127-ba79-4666-b0a9-7b16a079926c"
      },
      "source": [
        "Y = shuffled_df['Author']\n",
        "Y"
      ],
      "execution_count": 23,
      "outputs": [
        {
          "output_type": "execute_result",
          "data": {
            "text/plain": [
              "91811    1\n",
              "70299    1\n",
              "32432    0\n",
              "4740     0\n",
              "41530    0\n",
              "        ..\n",
              "85746    1\n",
              "28009    0\n",
              "33396    0\n",
              "56979    1\n",
              "56685    1\n",
              "Name: Author, Length: 99974, dtype: int64"
            ]
          },
          "metadata": {},
          "execution_count": 23
        }
      ]
    },
    {
      "cell_type": "markdown",
      "metadata": {
        "id": "lL1Mc8ibHnep"
      },
      "source": [
        "## Data splitting\n",
        "Split the data into train, validate and test sets."
      ]
    },
    {
      "cell_type": "code",
      "metadata": {
        "id": "ELyG9XFUHrkB"
      },
      "source": [
        "valid_split=0.2\n",
        "test_split=0.1\n",
        "v_split = int(X.shape[0]*(1-valid_split-test_split))\n",
        "t_split = int(X.shape[0]*(1-test_split))\n",
        "X_train, Y_train  = X[:v_split], Y[:v_split]\n",
        "X_valid, Y_valid  = X[v_split:t_split], Y[v_split:t_split]\n",
        "X_test , Y_test   = X[t_split:], Y[t_split:]\n"
      ],
      "execution_count": 24,
      "outputs": []
    },
    {
      "cell_type": "markdown",
      "metadata": {
        "id": "hA8U9tr7HrNQ"
      },
      "source": [
        "## Model definition\n",
        "Define an LSTM for the task. Compile the model with the correct loss function."
      ]
    },
    {
      "cell_type": "code",
      "metadata": {
        "id": "BT1V1s4kHuUe",
        "colab": {
          "base_uri": "https://localhost:8080/"
        },
        "outputId": "17732908-40c0-40af-f0b7-f33251132cfa"
      },
      "source": [
        "# LSTM: The output layer has a single neuron as it is a binary classification problem\n",
        "# Loss function: binary_crossentropy\n",
        "\n",
        "model = Sequential()\n",
        "model.add(LSTM(128, input_shape=(maxlen,len(chars_both),)))\n",
        "model.add(Dense(1, activation='sigmoid'))\n",
        "model.compile(loss='binary_crossentropy', optimizer='adam')\n",
        "model.summary()"
      ],
      "execution_count": 25,
      "outputs": [
        {
          "output_type": "stream",
          "name": "stdout",
          "text": [
            "Model: \"sequential\"\n",
            "_________________________________________________________________\n",
            " Layer (type)                Output Shape              Param #   \n",
            "=================================================================\n",
            " lstm (LSTM)                 (None, 128)               101376    \n",
            "                                                                 \n",
            " dense (Dense)               (None, 1)                 129       \n",
            "                                                                 \n",
            "=================================================================\n",
            "Total params: 101,505\n",
            "Trainable params: 101,505\n",
            "Non-trainable params: 0\n",
            "_________________________________________________________________\n"
          ]
        }
      ]
    },
    {
      "cell_type": "code",
      "metadata": {
        "id": "sJz8XLkUVyu6"
      },
      "source": [
        "# 1D CNN model\n",
        "#model = Sequential()\n",
        "#nb_filters=16\n",
        "#filter_size=3\n",
        "#model.add(Conv1D(filters=nb_filters, kernel_size=filter_size, activation='sigmoid', \n",
        "#                 kernel_initializer='glorot_normal', input_shape=(seq_length, 1)))\n",
        "#model.add(MaxPool1D()) \n",
        "#model.add(Conv1D(filters=nb_filters, kernel_size=filter_size, activation='tanh', \n",
        "#                 kernel_initializer='glorot_normal'))\n",
        "#model.add(Conv1D(filters=nb_filters, kernel_size=filter_size, activation='tanh', \n",
        "#                 kernel_initializer='glorot_normal'))\n",
        "#model.add(MaxPool1D()) \n",
        "#model.add(Conv1D(filters=nb_filters, kernel_size=filter_size, activation='tanh', \n",
        "#                 kernel_initializer='glorot_normal'))\n",
        "#model.add(MaxPool1D()) \n",
        "#model.add(Flatten())\n",
        "#model.add(Dense(1, activation='linear'))\n",
        "\n",
        "#model.summary()\n"
      ],
      "execution_count": 26,
      "outputs": []
    },
    {
      "cell_type": "markdown",
      "metadata": {
        "id": "hWFb-nAMHuAI"
      },
      "source": [
        "## Model training\n",
        "Train the model and apply early stopping."
      ]
    },
    {
      "cell_type": "code",
      "metadata": {
        "id": "dvgKjqp3Hwkp",
        "colab": {
          "base_uri": "https://localhost:8080/"
        },
        "outputId": "16c65df8-7a26-450d-a1de-f6d19de651b1"
      },
      "source": [
        "# step3 : make training\n",
        "es = EarlyStopping(monitor='val_loss', \n",
        "                   patience=50, verbose=1,\n",
        "                   restore_best_weights=True)\n",
        "\n",
        "model.fit(X_train,Y_train, batch_size=32, shuffle=True, validation_data=(X_valid, Y_valid), callbacks=[es], epochs=10)"
      ],
      "execution_count": 27,
      "outputs": [
        {
          "output_type": "stream",
          "name": "stdout",
          "text": [
            "Epoch 1/10\n",
            "2187/2187 [==============================] - 38s 15ms/step - loss: 0.6600 - val_loss: 0.5147\n",
            "Epoch 2/10\n",
            "2187/2187 [==============================] - 32s 15ms/step - loss: 0.5123 - val_loss: 0.6904\n",
            "Epoch 3/10\n",
            "2187/2187 [==============================] - 32s 15ms/step - loss: 0.4408 - val_loss: 0.3417\n",
            "Epoch 4/10\n",
            "2187/2187 [==============================] - 32s 15ms/step - loss: 0.3081 - val_loss: 0.2855\n",
            "Epoch 5/10\n",
            "2187/2187 [==============================] - 32s 15ms/step - loss: 0.2762 - val_loss: 0.2855\n",
            "Epoch 6/10\n",
            "2187/2187 [==============================] - 32s 15ms/step - loss: 0.2406 - val_loss: 0.2350\n",
            "Epoch 7/10\n",
            "2187/2187 [==============================] - 32s 15ms/step - loss: 0.2232 - val_loss: 0.2262\n",
            "Epoch 8/10\n",
            "2187/2187 [==============================] - 32s 15ms/step - loss: 0.2102 - val_loss: 0.2158\n",
            "Epoch 9/10\n",
            "2187/2187 [==============================] - 32s 15ms/step - loss: 0.1949 - val_loss: 0.1962\n",
            "Epoch 10/10\n",
            "2187/2187 [==============================] - 32s 15ms/step - loss: 0.1749 - val_loss: 0.1926\n"
          ]
        },
        {
          "output_type": "execute_result",
          "data": {
            "text/plain": [
              "<keras.callbacks.History at 0x7f18f0479c10>"
            ]
          },
          "metadata": {},
          "execution_count": 27
        }
      ]
    },
    {
      "cell_type": "markdown",
      "metadata": {
        "id": "0omw2XzSHwOo"
      },
      "source": [
        "## Evaluation on test data\n",
        "Evaluate the model on the test data in terms of loss and accuracy."
      ]
    },
    {
      "cell_type": "code",
      "metadata": {
        "colab": {
          "base_uri": "https://localhost:8080/"
        },
        "id": "L01eVLQ9cHS5",
        "outputId": "1457ba16-8275-4851-89f6-392da057b8e0"
      },
      "source": [
        "X_test[0]"
      ],
      "execution_count": 28,
      "outputs": [
        {
          "output_type": "execute_result",
          "data": {
            "text/plain": [
              "array([[0., 1., 0., ..., 0., 0., 0.],\n",
              "       [0., 0., 0., ..., 0., 0., 0.],\n",
              "       [0., 0., 0., ..., 0., 0., 0.],\n",
              "       ...,\n",
              "       [0., 0., 0., ..., 0., 0., 0.],\n",
              "       [0., 1., 0., ..., 0., 0., 0.],\n",
              "       [0., 0., 0., ..., 0., 0., 0.]])"
            ]
          },
          "metadata": {},
          "execution_count": 28
        }
      ]
    },
    {
      "cell_type": "code",
      "metadata": {
        "colab": {
          "base_uri": "https://localhost:8080/"
        },
        "id": "T_S-Svr-lR0-",
        "outputId": "8b781f1a-3ca9-480e-b234-bd3dcd6c9b4b"
      },
      "source": [
        "type(Y_test)"
      ],
      "execution_count": 73,
      "outputs": [
        {
          "output_type": "execute_result",
          "data": {
            "text/plain": [
              "pandas.core.series.Series"
            ]
          },
          "metadata": {},
          "execution_count": 73
        }
      ]
    },
    {
      "cell_type": "code",
      "metadata": {
        "colab": {
          "base_uri": "https://localhost:8080/"
        },
        "id": "Gr5LNxynb0QR",
        "outputId": "7e91658b-7e9d-4193-9673-4225313b2f81"
      },
      "source": [
        "len(model.predict(X_test)[model.predict(X_test)>0.5])"
      ],
      "execution_count": 34,
      "outputs": [
        {
          "output_type": "execute_result",
          "data": {
            "text/plain": [
              "4839"
            ]
          },
          "metadata": {},
          "execution_count": 34
        }
      ]
    },
    {
      "cell_type": "code",
      "metadata": {
        "id": "4bF3dQA1Hv_R",
        "colab": {
          "base_uri": "https://localhost:8080/"
        },
        "outputId": "7f464653-2169-4651-e504-cafec8ade5b1"
      },
      "source": [
        "print(model.evaluate(X_test,Y_test))"
      ],
      "execution_count": 30,
      "outputs": [
        {
          "output_type": "stream",
          "name": "stdout",
          "text": [
            "313/313 [==============================] - 2s 6ms/step - loss: 0.1835\n",
            "0.18349052965641022\n"
          ]
        }
      ]
    },
    {
      "cell_type": "markdown",
      "metadata": {
        "id": "4Y73Q-h5Hz1r"
      },
      "source": [
        "## Confusion matrix\n",
        "Calculate and display the confusion matrix."
      ]
    },
    {
      "cell_type": "code",
      "metadata": {
        "id": "cW8zZi1uJm2B"
      },
      "source": [
        "preds = model.predict(X_test)\n",
        "preds_bool = np.ones(len(preds))\n",
        "for i in range(len(preds)):\n",
        "  preds_bool[i] = int((preds[i]>0.5)*1)\n",
        "#preds_label = np.array(len(preds))\n",
        "#preds_label = preds>0.5\n",
        "#preds_label = preds_label*1\n",
        "#preds_label"
      ],
      "execution_count": 90,
      "outputs": []
    },
    {
      "cell_type": "code",
      "metadata": {
        "colab": {
          "base_uri": "https://localhost:8080/"
        },
        "id": "AOnCkbg4l7ye",
        "outputId": "6d3fbed8-d26b-4082-ecd0-6b6a54b1cf2b"
      },
      "source": [
        "preds_bool"
      ],
      "execution_count": 98,
      "outputs": [
        {
          "output_type": "execute_result",
          "data": {
            "text/plain": [
              "array([0., 0., 1., ..., 0., 1., 1.])"
            ]
          },
          "metadata": {},
          "execution_count": 98
        }
      ]
    },
    {
      "cell_type": "code",
      "metadata": {
        "id": "5z1b0Lo0Yspy"
      },
      "source": [
        "from sklearn.metrics import confusion_matrix\n",
        "conf = confusion_matrix(preds_bool, Y_test)"
      ],
      "execution_count": 94,
      "outputs": []
    },
    {
      "cell_type": "code",
      "metadata": {
        "colab": {
          "base_uri": "https://localhost:8080/",
          "height": 282
        },
        "id": "5whcURZbbV78",
        "outputId": "482948fd-32c2-4ab5-e262-b220884d9523"
      },
      "source": [
        "import seaborn as sns\n",
        "sns.heatmap(conf, annot=True, fmt=\"d\")"
      ],
      "execution_count": 97,
      "outputs": [
        {
          "output_type": "execute_result",
          "data": {
            "text/plain": [
              "<matplotlib.axes._subplots.AxesSubplot at 0x7f1880ee4ad0>"
            ]
          },
          "metadata": {},
          "execution_count": 97
        },
        {
          "output_type": "display_data",
          "data": {
            "image/png": "[encoded data removed]",
            "text/plain": [
              "<Figure size 432x288 with 2 Axes>"
            ]
          },
          "metadata": {
            "needs_background": "light"
          }
        }
      ]
    },
    {
      "cell_type": "code",
      "metadata": {
        "id": "SZsehK_znSuh"
      },
      "source": [
        ""
      ],
      "execution_count": null,
      "outputs": []
    }
  ]
}