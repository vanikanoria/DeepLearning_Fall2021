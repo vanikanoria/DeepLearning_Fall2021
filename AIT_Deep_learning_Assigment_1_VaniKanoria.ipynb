{
  "nbformat": 4,
  "nbformat_minor": 0,
  "metadata": {
    "kernelspec": {
      "display_name": "Python 3",
      "language": "python",
      "name": "python3"
    },
    "language_info": {
      "codemirror_mode": {
        "name": "ipython",
        "version": 3
      },
      "file_extension": ".py",
      "mimetype": "text/x-python",
      "name": "python",
      "nbconvert_exporter": "python",
      "pygments_lexer": "ipython3",
      "version": "3.6.6"
    },
    "colab": {
      "name": "AIT-Deep-learning-Assigment-1_VaniKanoria",
      "provenance": [],
      "collapsed_sections": [],
      "include_colab_link": true
    }
  },
  "cells": [
    {
      "cell_type": "markdown",
      "metadata": {
        "id": "view-in-github",
        "colab_type": "text"
      },
      "source": [
        "<a href=\"https://colab.research.google.com/github/vanikanoria/DeepLearning_Fall2021/blob/main/AIT_Deep_learning_Assigment_1_VaniKanoria.ipynb\" target=\"_parent\"><img src=\"https://colab.research.google.com/assets/colab-badge.svg\" alt=\"Open In Colab\"/></a>"
      ]
    },
    {
      "cell_type": "markdown",
      "metadata": {
        "id": "_jiGtJu6u9ml"
      },
      "source": [
        "# Copyright\n",
        "\n",
        "<PRE>\n",
        "Copyright (c) 2020 Bálint Gyires-Tóth - All Rights Reserved\n",
        "You may use and modify this code for research and development purpuses.\n",
        "Use this code for educational purposes (self-paced or instructor led) without the permission of the author is prohibited.\n",
        "</PRE>"
      ]
    },
    {
      "cell_type": "markdown",
      "metadata": {
        "id": "oXyFC44jV-PP"
      },
      "source": [
        "\n",
        "\n",
        "# Boston housing prices - modeling\n",
        "In this notebook we will: \n",
        "* using Boston housing data (https://www.cs.toronto.edu/~delve/data/boston/bostonDetail.html)\n",
        "* exploring the data\n",
        "* creating a model\n",
        "* training the model\n",
        "* evaluation on test data\n",
        "* making predictions and regression plot\n",
        "\n",
        "Assigment: \n",
        "* please complete TODO parts\n"
      ]
    },
    {
      "cell_type": "code",
      "metadata": {
        "id": "jLX73EvBu9ms"
      },
      "source": [
        "import matplotlib.pyplot as plt\n",
        "import seaborn as sns\n",
        "import numpy as np\n",
        "import pandas as pd\n",
        "import matplotlib.pyplot as plt \n",
        "from sklearn import preprocessing\n",
        "from sklearn.datasets import load_boston"
      ],
      "execution_count": 1,
      "outputs": []
    },
    {
      "cell_type": "code",
      "metadata": {
        "id": "Ba-K0MyGoNay"
      },
      "source": [
        "# Keras imports : model, layers, optimizers\n",
        "import tensorflow as tf\n",
        "from tensorflow.keras.models import Sequential\n",
        "from tensorflow.keras.layers import Dense, Dropout, BatchNormalization, Activation\n",
        "from tensorflow.keras.callbacks import EarlyStopping, TensorBoard\n",
        "from tensorflow.keras.optimizers import Adam"
      ],
      "execution_count": 2,
      "outputs": []
    },
    {
      "cell_type": "code",
      "metadata": {
        "id": "K5uDujeqviOH",
        "colab": {
          "base_uri": "https://localhost:8080/"
        },
        "outputId": "067bb7e0-571a-460d-eaea-67e1d76688ac"
      },
      "source": [
        "# load Boston Housing dataset\n",
        "X, Y = load_boston(return_X_y=True)\n",
        "nb_samples = X.shape[0]\n",
        "print(nb_samples)"
      ],
      "execution_count": 3,
      "outputs": [
        {
          "output_type": "stream",
          "name": "stdout",
          "text": [
            "506\n"
          ]
        }
      ]
    },
    {
      "cell_type": "code",
      "metadata": {
        "colab": {
          "base_uri": "https://localhost:8080/"
        },
        "id": "4Jb0uO1z_MmT",
        "outputId": "7d20a016-047b-42ae-eec1-0bfb0adab129"
      },
      "source": [
        "print(X.shape, Y.shape)"
      ],
      "execution_count": 4,
      "outputs": [
        {
          "output_type": "stream",
          "name": "stdout",
          "text": [
            "(506, 13) (506,)\n"
          ]
        }
      ]
    },
    {
      "cell_type": "code",
      "metadata": {
        "colab": {
          "base_uri": "https://localhost:8080/",
          "height": 336
        },
        "id": "9Q2BLgel46YS",
        "outputId": "7e311688-23c5-4486-a45e-d683909f1806"
      },
      "source": [
        "import seaborn as sns\n",
        "sns.countplot(Y)"
      ],
      "execution_count": 5,
      "outputs": [
        {
          "output_type": "stream",
          "name": "stderr",
          "text": [
            "/usr/local/lib/python3.7/dist-packages/seaborn/_decorators.py:43: FutureWarning: Pass the following variable as a keyword arg: x. From version 0.12, the only valid positional argument will be `data`, and passing other arguments without an explicit keyword will result in an error or misinterpretation.\n",
            "  FutureWarning\n"
          ]
        },
        {
          "output_type": "execute_result",
          "data": {
            "text/plain": [
              "<matplotlib.axes._subplots.AxesSubplot at 0x7fddc559b890>"
            ]
          },
          "metadata": {},
          "execution_count": 5
        },
        {
          "output_type": "display_data",
          "data": {
            "image/png": "[encoded data removed]",
            "text/plain": [
              "<Figure size 432x288 with 1 Axes>"
            ]
          },
          "metadata": {
            "needs_background": "light"
          }
        }
      ]
    },
    {
      "cell_type": "markdown",
      "metadata": {
        "id": "sS7xCTZioeIK"
      },
      "source": [
        "Splitting data into training, validation and test sets:"
      ]
    },
    {
      "cell_type": "code",
      "metadata": {
        "id": "YWUhEmcaoYeW"
      },
      "source": [
        "valid_split = 0.2\n",
        "test_split  = 0.1\n",
        "\n",
        "v_point = int(nb_samples*(1-valid_split-test_split))\n",
        "t_point = int(nb_samples*(1-test_split))\n",
        "\n",
        "X_train = X[0:v_point]\n",
        "Y_train = Y[0:v_point]\n",
        "X_valid = X[v_point:t_point]\n",
        "Y_valid = Y[v_point:t_point]\n",
        "X_test  = X[t_point:]\n",
        "Y_test  = Y[t_point:]"
      ],
      "execution_count": 36,
      "outputs": []
    },
    {
      "cell_type": "code",
      "metadata": {
        "colab": {
          "base_uri": "https://localhost:8080/"
        },
        "id": "U4XB70GJFlfn",
        "outputId": "0b1274dd-31a1-4d47-b673-dc95cce9a5aa"
      },
      "source": [
        "print(X_train.shape, Y_train.shape, X_valid.shape, Y_valid.shape, X_test.shape, Y_test.shape)"
      ],
      "execution_count": 37,
      "outputs": [
        {
          "output_type": "stream",
          "name": "stdout",
          "text": [
            "(354, 13) (354,) (101, 13) (101,) (51, 13) (51,)\n"
          ]
        }
      ]
    },
    {
      "cell_type": "markdown",
      "metadata": {
        "id": "n6awn-6uogmo"
      },
      "source": [
        "Standardization of the data:"
      ]
    },
    {
      "cell_type": "code",
      "metadata": {
        "id": "XSNawE7Zob_Y"
      },
      "source": [
        "scaler  = preprocessing.StandardScaler().fit(X_train)\n",
        "X_train = scaler.transform(X_train)\n",
        "X_valid = scaler.transform(X_valid)\n",
        "X_test  = scaler.transform(X_test)"
      ],
      "execution_count": 38,
      "outputs": []
    },
    {
      "cell_type": "markdown",
      "metadata": {
        "id": "MpBJFHZvu9m2"
      },
      "source": [
        "Defining the model (with one or two hidden layers and 8-64 neurons / layer, the input and output layers' sizes are defined by the data):"
      ]
    },
    {
      "cell_type": "code",
      "metadata": {
        "id": "flEY3-qBorvA"
      },
      "source": [
        "model = Sequential()\n",
        "# X_train.shape[1] inputs, hidden layers with 64 neurons, 1 output\n",
        "model.add(Dense(64, input_shape=(X_train.shape[1],), activation='sigmoid')) #input and hidden layer with 64 neurons\n",
        "model.add(Dense(64, activation='sigmoid')) #hidden layer with 64 neurons\n",
        "model.add(Dense(1, activation='linear'))#output layer\n"
      ],
      "execution_count": 39,
      "outputs": []
    },
    {
      "cell_type": "markdown",
      "metadata": {
        "id": "efZ6M0Yh3WlT"
      },
      "source": [
        "Inspect the model summary:"
      ]
    },
    {
      "cell_type": "code",
      "metadata": {
        "id": "LhfnanAm3X9l",
        "colab": {
          "base_uri": "https://localhost:8080/"
        },
        "outputId": "fcf2ef02-cbbd-4754-b368-b5ed0fdf0273"
      },
      "source": [
        "model.summary()"
      ],
      "execution_count": 40,
      "outputs": [
        {
          "output_type": "stream",
          "name": "stdout",
          "text": [
            "Model: \"sequential_3\"\n",
            "_________________________________________________________________\n",
            "Layer (type)                 Output Shape              Param #   \n",
            "=================================================================\n",
            "dense_7 (Dense)              (None, 64)                896       \n",
            "_________________________________________________________________\n",
            "dense_8 (Dense)              (None, 64)                4160      \n",
            "_________________________________________________________________\n",
            "dense_9 (Dense)              (None, 1)                 65        \n",
            "=================================================================\n",
            "Total params: 5,121\n",
            "Trainable params: 5,121\n",
            "Non-trainable params: 0\n",
            "_________________________________________________________________\n"
          ]
        }
      ]
    },
    {
      "cell_type": "markdown",
      "metadata": {
        "id": "h3hCd6Cf3ZS1"
      },
      "source": [
        "Number of trainable parameters in the model: 5121"
      ]
    },
    {
      "cell_type": "markdown",
      "metadata": {
        "id": "ibjhW3pAoveO"
      },
      "source": [
        "Compiling the model:"
      ]
    },
    {
      "cell_type": "code",
      "metadata": {
        "id": "ztxln4VUow5q"
      },
      "source": [
        "model.compile(loss='mean_squared_error', optimizer=Adam(learning_rate=0.1), # 0.001\n",
        "              metrics=['accuracy'])"
      ],
      "execution_count": 49,
      "outputs": []
    },
    {
      "cell_type": "markdown",
      "metadata": {
        "id": "zfmN2ROJo4xq"
      },
      "source": [
        "Defining the earlystopping callback function:"
      ]
    },
    {
      "cell_type": "code",
      "metadata": {
        "id": "fhQMRIhio3Js"
      },
      "source": [
        "es = EarlyStopping(monitor='val_loss', \n",
        "                   patience=20, verbose=1,\n",
        "                   restore_best_weights=True)"
      ],
      "execution_count": 50,
      "outputs": []
    },
    {
      "cell_type": "markdown",
      "metadata": {
        "id": "JqJNQCtB2k08"
      },
      "source": [
        "Train the model, use training and validation data and apply early stopping:"
      ]
    },
    {
      "cell_type": "code",
      "metadata": {
        "id": "oWDGwe862kQj",
        "colab": {
          "base_uri": "https://localhost:8080/"
        },
        "outputId": "9c13ba98-eb6a-4888-dcac-b18f27584550"
      },
      "source": [
        "model.fit(X_train, Y_train, validation_data=(X_valid, Y_valid), callbacks=[es], epochs=100000000)"
      ],
      "execution_count": 51,
      "outputs": [
        {
          "output_type": "stream",
          "name": "stdout",
          "text": [
            "Epoch 1/100000000\n",
            "12/12 [==============================] - 1s 16ms/step - loss: 81.6494 - accuracy: 0.0000e+00 - val_loss: 110.0585 - val_accuracy: 0.0000e+00\n",
            "Epoch 2/100000000\n",
            "12/12 [==============================] - 0s 3ms/step - loss: 51.4687 - accuracy: 0.0000e+00 - val_loss: 112.7383 - val_accuracy: 0.0000e+00\n",
            "Epoch 3/100000000\n",
            "12/12 [==============================] - 0s 3ms/step - loss: 41.0570 - accuracy: 0.0000e+00 - val_loss: 125.1717 - val_accuracy: 0.0000e+00\n",
            "Epoch 4/100000000\n",
            "12/12 [==============================] - 0s 3ms/step - loss: 35.0428 - accuracy: 0.0000e+00 - val_loss: 117.9205 - val_accuracy: 0.0000e+00\n",
            "Epoch 5/100000000\n",
            "12/12 [==============================] - 0s 3ms/step - loss: 27.6197 - accuracy: 0.0000e+00 - val_loss: 205.1119 - val_accuracy: 0.0000e+00\n",
            "Epoch 6/100000000\n",
            "12/12 [==============================] - 0s 3ms/step - loss: 21.0211 - accuracy: 0.0000e+00 - val_loss: 241.9244 - val_accuracy: 0.0000e+00\n",
            "Epoch 7/100000000\n",
            "12/12 [==============================] - 0s 4ms/step - loss: 15.1989 - accuracy: 0.0000e+00 - val_loss: 316.5599 - val_accuracy: 0.0000e+00\n",
            "Epoch 8/100000000\n",
            "12/12 [==============================] - 0s 3ms/step - loss: 13.4953 - accuracy: 0.0000e+00 - val_loss: 348.0412 - val_accuracy: 0.0000e+00\n",
            "Epoch 9/100000000\n",
            "12/12 [==============================] - 0s 5ms/step - loss: 10.0913 - accuracy: 0.0000e+00 - val_loss: 284.0886 - val_accuracy: 0.0000e+00\n",
            "Epoch 10/100000000\n",
            "12/12 [==============================] - 0s 3ms/step - loss: 9.1237 - accuracy: 0.0000e+00 - val_loss: 297.4556 - val_accuracy: 0.0000e+00\n",
            "Epoch 11/100000000\n",
            "12/12 [==============================] - 0s 4ms/step - loss: 7.9819 - accuracy: 0.0000e+00 - val_loss: 435.0554 - val_accuracy: 0.0000e+00\n",
            "Epoch 12/100000000\n",
            "12/12 [==============================] - 0s 3ms/step - loss: 6.9461 - accuracy: 0.0000e+00 - val_loss: 424.7312 - val_accuracy: 0.0000e+00\n",
            "Epoch 13/100000000\n",
            "12/12 [==============================] - 0s 3ms/step - loss: 6.3586 - accuracy: 0.0000e+00 - val_loss: 719.2088 - val_accuracy: 0.0000e+00\n",
            "Epoch 14/100000000\n",
            "12/12 [==============================] - 0s 4ms/step - loss: 13.0100 - accuracy: 0.0000e+00 - val_loss: 538.5571 - val_accuracy: 0.0000e+00\n",
            "Epoch 15/100000000\n",
            "12/12 [==============================] - 0s 4ms/step - loss: 15.7774 - accuracy: 0.0000e+00 - val_loss: 144.9600 - val_accuracy: 0.0000e+00\n",
            "Epoch 16/100000000\n",
            "12/12 [==============================] - 0s 3ms/step - loss: 11.8856 - accuracy: 0.0000e+00 - val_loss: 177.7294 - val_accuracy: 0.0000e+00\n",
            "Epoch 17/100000000\n",
            "12/12 [==============================] - 0s 3ms/step - loss: 11.3943 - accuracy: 0.0000e+00 - val_loss: 289.7329 - val_accuracy: 0.0000e+00\n",
            "Epoch 18/100000000\n",
            "12/12 [==============================] - 0s 3ms/step - loss: 10.1205 - accuracy: 0.0000e+00 - val_loss: 270.6157 - val_accuracy: 0.0000e+00\n",
            "Epoch 19/100000000\n",
            "12/12 [==============================] - 0s 3ms/step - loss: 8.0730 - accuracy: 0.0000e+00 - val_loss: 229.4249 - val_accuracy: 0.0000e+00\n",
            "Epoch 20/100000000\n",
            "12/12 [==============================] - 0s 3ms/step - loss: 5.7423 - accuracy: 0.0000e+00 - val_loss: 299.6376 - val_accuracy: 0.0000e+00\n",
            "Epoch 21/100000000\n",
            "12/12 [==============================] - 0s 3ms/step - loss: 5.4009 - accuracy: 0.0000e+00 - val_loss: 343.0191 - val_accuracy: 0.0000e+00\n",
            "Restoring model weights from the end of the best epoch.\n",
            "Epoch 00021: early stopping\n"
          ]
        },
        {
          "output_type": "execute_result",
          "data": {
            "text/plain": [
              "<keras.callbacks.History at 0x7fddc0a390d0>"
            ]
          },
          "metadata": {},
          "execution_count": 51
        }
      ]
    },
    {
      "cell_type": "markdown",
      "metadata": {
        "id": "pCaNGjzQ2m9D"
      },
      "source": [
        "Evaluate on the test data:"
      ]
    },
    {
      "cell_type": "code",
      "metadata": {
        "id": "_MDJut_b3-6Q",
        "colab": {
          "base_uri": "https://localhost:8080/"
        },
        "outputId": "d4e4e704-c376-4f21-97d8-0e98d871eac9"
      },
      "source": [
        "model.evaluate(X_test, Y_test)"
      ],
      "execution_count": 52,
      "outputs": [
        {
          "output_type": "stream",
          "name": "stdout",
          "text": [
            "2/2 [==============================] - 0s 6ms/step - loss: 17.1629 - accuracy: 0.0000e+00\n"
          ]
        },
        {
          "output_type": "execute_result",
          "data": {
            "text/plain": [
              "[17.16291046142578, 0.0]"
            ]
          },
          "metadata": {},
          "execution_count": 52
        }
      ]
    },
    {
      "cell_type": "markdown",
      "metadata": {
        "id": "Gtd_UnfN4TPP"
      },
      "source": [
        "Make predictions:"
      ]
    },
    {
      "cell_type": "code",
      "metadata": {
        "id": "OhghFnnf4VA1",
        "colab": {
          "base_uri": "https://localhost:8080/"
        },
        "outputId": "0a9d6c05-78f0-4a72-dce0-e65bd5c765a8"
      },
      "source": [
        "preds = model.predict(X_test)"
      ],
      "execution_count": 53,
      "outputs": [
        {
          "output_type": "stream",
          "name": "stdout",
          "text": [
            "WARNING:tensorflow:5 out of the last 13 calls to <function Model.make_predict_function.<locals>.predict_function at 0x7fddc080d710> triggered tf.function retracing. Tracing is expensive and the excessive number of tracings could be due to (1) creating @tf.function repeatedly in a loop, (2) passing tensors with different shapes, (3) passing Python objects instead of tensors. For (1), please define your @tf.function outside of the loop. For (2), @tf.function has experimental_relax_shapes=True option that relaxes argument shapes that can avoid unnecessary retracing. For (3), please refer to https://www.tensorflow.org/guide/function#controlling_retracing and https://www.tensorflow.org/api_docs/python/tf/function for  more details.\n"
          ]
        }
      ]
    },
    {
      "cell_type": "markdown",
      "metadata": {
        "id": "cZkVPySYAddP"
      },
      "source": [
        "Inspecting the result on a regression plot:"
      ]
    },
    {
      "cell_type": "code",
      "metadata": {
        "id": "Uzv3YtGlAcl6",
        "colab": {
          "base_uri": "https://localhost:8080/",
          "height": 595
        },
        "outputId": "6249fcf3-32d4-4783-f34d-2e724269b10f"
      },
      "source": [
        "plt.figure(figsize=(10,10))\n",
        "sns.regplot(x=Y_test.reshape(-1), y=preds.reshape(-1)).set(xlim=(5,30),ylim=(5,30)); "
      ],
      "execution_count": 54,
      "outputs": [
        {
          "output_type": "display_data",
          "data": {
            "image/png": "[encoded data removed]",
            "text/plain": [
              "<Figure size 720x720 with 1 Axes>"
            ]
          },
          "metadata": {
            "needs_background": "light"
          }
        }
      ]
    },
    {
      "cell_type": "code",
      "metadata": {
        "id": "X4Ee3hH0eAAO"
      },
      "source": [
        ""
      ],
      "execution_count": null,
      "outputs": []
    }
  ]
}